{
 "cells": [
  {
   "cell_type": "code",
   "execution_count": 9,
   "id": "9b086392",
   "metadata": {},
   "outputs": [],
   "source": [
    "from clean_data import load_all_houses_with_device\n",
    "import numpy as np"
   ]
  },
  {
   "cell_type": "code",
   "execution_count": 2,
   "id": "d97c3520",
   "metadata": {},
   "outputs": [],
   "source": [
    "path = r\"C:\\Users\\aar245.CORNELL\\Desktop\\privacy_preserving_nn\\input\\1min_real_sept_oct_nov2019.csv\""
   ]
  },
  {
   "cell_type": "code",
   "execution_count": 3,
   "id": "dd9aec73",
   "metadata": {},
   "outputs": [],
   "source": [
    "df = load_all_houses_with_device(path, 'refrigerator1')"
   ]
  },
  {
   "cell_type": "code",
   "execution_count": 6,
   "id": "97a1b757",
   "metadata": {},
   "outputs": [],
   "source": [
    "y = df.loc[df.dataid==142].appliance_power.values"
   ]
  },
  {
   "cell_type": "code",
   "execution_count": 8,
   "id": "a9122bc5",
   "metadata": {},
   "outputs": [],
   "source": [
    "X = df.loc[df.dataid==142].net_power.values"
   ]
  },
  {
   "cell_type": "code",
   "execution_count": 77,
   "id": "b8392302",
   "metadata": {},
   "outputs": [],
   "source": [
    "def add_padding(data, window_length):\n",
    "    padding = np.zeros(int(window_length/2))\n",
    "    data = np.append(data, padding)\n",
    "    data = np.insert(data, 0, padding)\n",
    "    return data"
   ]
  },
  {
   "cell_type": "code",
   "execution_count": 39,
   "id": "251ed8d1",
   "metadata": {},
   "outputs": [
    {
     "name": "stdout",
     "output_type": "stream",
     "text": [
      "249\n"
     ]
    },
    {
     "data": {
      "text/plain": [
       "array([0., 0., 0., ..., 0., 0., 0.])"
      ]
     },
     "execution_count": 39,
     "metadata": {},
     "output_type": "execute_result"
    }
   ],
   "source": [
    "add_padding(X, 499)"
   ]
  },
  {
   "cell_type": "code",
   "execution_count": 78,
   "id": "cff15539",
   "metadata": {},
   "outputs": [],
   "source": [
    "def split_data(data, window_length):\n",
    "    data = add_padding(data, window_length)\n",
    "    steps = len(data) - window_length\n",
    "    data_splits = []\n",
    "    for i in range(steps+1):\n",
    "        data_splits.append(data[i:window_length+i])\n",
    "    return data_splits"
   ]
  },
  {
   "cell_type": "code",
   "execution_count": 87,
   "id": "3dcc4a9a",
   "metadata": {},
   "outputs": [],
   "source": [
    "test_case = split_data(X, 499)[1]"
   ]
  },
  {
   "cell_type": "code",
   "execution_count": 88,
   "id": "3af25654",
   "metadata": {},
   "outputs": [
    {
     "data": {
      "text/plain": [
       "195.0"
      ]
     },
     "execution_count": 88,
     "metadata": {},
     "output_type": "execute_result"
    }
   ],
   "source": [
    "test_case[int(len(test_case)/2)]"
   ]
  },
  {
   "cell_type": "code",
   "execution_count": 89,
   "id": "10c0e0fc",
   "metadata": {},
   "outputs": [
    {
     "data": {
      "text/plain": [
       "array([510., 195., 185., ..., 853., 901., 923.], dtype=float32)"
      ]
     },
     "execution_count": 89,
     "metadata": {},
     "output_type": "execute_result"
    }
   ],
   "source": []
  },
  {
   "cell_type": "code",
   "execution_count": 86,
   "id": "417b1885",
   "metadata": {},
   "outputs": [
    {
     "data": {
      "text/plain": [
       "array([0., 0., 1., ..., 3., 3., 3.], dtype=float32)"
      ]
     },
     "execution_count": 86,
     "metadata": {},
     "output_type": "execute_result"
    }
   ],
   "source": [
    "y"
   ]
  },
  {
   "cell_type": "code",
   "execution_count": null,
   "id": "251ed13e",
   "metadata": {},
   "outputs": [],
   "source": []
  }
 ],
 "metadata": {
  "kernelspec": {
   "display_name": "mlenv",
   "language": "python",
   "name": "mlenv"
  },
  "language_info": {
   "codemirror_mode": {
    "name": "ipython",
    "version": 3
   },
   "file_extension": ".py",
   "mimetype": "text/x-python",
   "name": "python",
   "nbconvert_exporter": "python",
   "pygments_lexer": "ipython3",
   "version": "3.8.5"
  }
 },
 "nbformat": 4,
 "nbformat_minor": 5
}
