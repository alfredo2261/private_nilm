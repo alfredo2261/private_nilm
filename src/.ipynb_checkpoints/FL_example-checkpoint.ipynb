{
 "cells": [
  {
   "cell_type": "code",
   "execution_count": 1,
   "id": "4600c5f1",
   "metadata": {},
   "outputs": [],
   "source": [
    "import torch\n",
    "import torch.nn as nn\n",
    "import torch.nn.functional as F\n",
    "import torch.optim as optim\n",
    "from torchvision import datasets, transforms\n",
    "import numpy as np\n",
    "from tqdm import tqdm\n",
    "import wandb"
   ]
  },
  {
   "cell_type": "code",
   "execution_count": 10,
   "id": "9b06a1da",
   "metadata": {},
   "outputs": [],
   "source": [
    "class Net(nn.Module):\n",
    "    def __init__(self):\n",
    "        super(Net, self).__init__()\n",
    "        self.conv1 = nn.Conv2d(1, 32, kernel_size=3, stride=2, padding=1)\n",
    "        self.conv2 = nn.Conv2d(32, 64, kernel_size=3, stride=2, padding=1)\n",
    "        self.conv3 = nn.Conv2d(64, 128, kernel_size=3, stride=2, padding=1)\n",
    "        self.fc1 = nn.Linear(2048, 128)\n",
    "        self.fc2 = nn.Linear(128, 10)\n",
    "\n",
    "    def forward(self, x):\n",
    "        x = self.conv1(x)\n",
    "        x = F.relu(x)\n",
    "        x = self.conv2(x)\n",
    "        x = F.relu(x)\n",
    "        x = self.conv3(x)\n",
    "        x = F.relu(x)\n",
    "        x = torch.flatten(x, 1)\n",
    "        x = self.fc1(x)\n",
    "        x = F.relu(x)\n",
    "        x = self.fc2(x)\n",
    "        output = F.log_softmax(x, dim=1)\n",
    "        return output\n",
    "\n",
    "\n",
    "def client_update(model, optimizer, train_loader, epoch=5):\n",
    "    model.train()\n",
    "    for e in range(epoch):\n",
    "        for batch_idx, (data, target) in enumerate(train_loader):\n",
    "            data, target = data.to(device), target.to(device)\n",
    "            optimizer.zero_grad()\n",
    "            output = model(data)\n",
    "            loss = F.nll_loss(output, target)\n",
    "            loss.backward()\n",
    "            optimizer.step()\n",
    "    return loss.item()\n",
    "\n",
    "def server_aggregate(global_model, client_models):\n",
    "    global_dict = global_model.state_dict()\n",
    "    for k in global_dict.keys():\n",
    "        global_dict[k] = torch.stack([client_models[i].state_dict()[k] for i in range(len(client_models))], 0).mean(0)\n",
    "    global_model.load_state_dict(global_dict)\n",
    "    for model in client_models:\n",
    "        model.load_state_dict(global_model.state_dict())\n",
    "\n",
    "def test(model, test_loader):\n",
    "    model.eval()\n",
    "    test_loss = 0\n",
    "    correct = 0\n",
    "    with torch.no_grad():\n",
    "        for data, target in test_loader:\n",
    "            data, target = data.cuda(), target.cuda()\n",
    "            output = model(data)\n",
    "            test_loss += F.nll_loss(output, target, reduction='sum').item()  # sum up batch loss\n",
    "            pred = output.argmax(dim=1, keepdim=True)  # get the index of the max log-probability\n",
    "            correct += pred.eq(target.view_as(pred)).sum().item()\n",
    "\n",
    "    test_loss /= len(test_loader.dataset)\n",
    "    acc = correct / len(test_loader.dataset)\n",
    "\n",
    "    return test_loss, acc"
   ]
  },
  {
   "cell_type": "code",
   "execution_count": 3,
   "id": "635dc5da",
   "metadata": {},
   "outputs": [],
   "source": [
    "device = torch.device(\"cuda:0\" if torch.cuda.is_available() else \"cpu\")"
   ]
  },
  {
   "cell_type": "code",
   "execution_count": 4,
   "id": "e9410dcc",
   "metadata": {},
   "outputs": [
    {
     "name": "stderr",
     "output_type": "stream",
     "text": [
      "\u001b[34m\u001b[1mwandb\u001b[0m: Currently logged in as: \u001b[33mnilm\u001b[0m (use `wandb login --relogin` to force relogin)\n"
     ]
    },
    {
     "data": {
      "text/plain": [
       "True"
      ]
     },
     "execution_count": 4,
     "metadata": {},
     "output_type": "execute_result"
    }
   ],
   "source": [
    "wandb.login()"
   ]
  },
  {
   "cell_type": "code",
   "execution_count": 5,
   "id": "eb6899e8",
   "metadata": {},
   "outputs": [],
   "source": [
    "# Hyperparameters\n",
    "\n",
    "hyperparameters = {\n",
    "    \"num_clients\":100,\n",
    "    \"num_selected\":10,\n",
    "    \"num_rounds\":5,\n",
    "    \"epochs\":5,\n",
    "    \"batch_size\":32\n",
    "}"
   ]
  },
  {
   "cell_type": "code",
   "execution_count": 15,
   "id": "e7e28f55",
   "metadata": {},
   "outputs": [
    {
     "data": {
      "text/html": [
       "\n",
       "                Tracking run with wandb version 0.12.2<br/>\n",
       "                Syncing run <strong style=\"color:#cdcd00\">earthy-night-6</strong> to <a href=\"https://wandb.ai\" target=\"_blank\">Weights & Biases</a> <a href=\"https://docs.wandb.com/integrations/jupyter.html\" target=\"_blank\">(Documentation)</a>.<br/>\n",
       "                Project page: <a href=\"https://wandb.ai/nilm/FL%20toy%20example\" target=\"_blank\">https://wandb.ai/nilm/FL%20toy%20example</a><br/>\n",
       "                Run page: <a href=\"https://wandb.ai/nilm/FL%20toy%20example/runs/zanp6743\" target=\"_blank\">https://wandb.ai/nilm/FL%20toy%20example/runs/zanp6743</a><br/>\n",
       "                Run data is saved locally in <code>C:\\Users\\aar245.CORNELL\\Desktop\\privacy_preserving_nn\\src_2\\wandb\\run-20220121_183230-zanp6743</code><br/><br/>\n",
       "            "
      ],
      "text/plain": [
       "<IPython.core.display.HTML object>"
      ]
     },
     "metadata": {},
     "output_type": "display_data"
    },
    {
     "name": "stdout",
     "output_type": "stream",
     "text": [
      "[96 46 51 52 58 30 93  3 71 11]\n",
      "0-th round\n",
      "average train loss 0.679 | test loss 0.527 | test acc: 0.856\n",
      "[96 46 51 52 58 30 93  3 71 11]\n",
      "1-th round\n",
      "average train loss 0.141 | test loss 0.256 | test acc: 0.925\n",
      "[96 46 51 52 58 30 93  3 71 11]\n",
      "2-th round\n",
      "average train loss 0.0584 | test loss 0.206 | test acc: 0.945\n",
      "[96 46 51 52 58 30 93  3 71 11]\n",
      "3-th round\n",
      "average train loss 0.0135 | test loss 0.184 | test acc: 0.952\n",
      "[96 46 51 52 58 30 93  3 71 11]\n",
      "4-th round\n",
      "average train loss 0.00707 | test loss 0.173 | test acc: 0.956\n"
     ]
    },
    {
     "data": {
      "text/html": [
       "<br/>Waiting for W&B process to finish, PID 6347460<br/>Program ended successfully."
      ],
      "text/plain": [
       "<IPython.core.display.HTML object>"
      ]
     },
     "metadata": {},
     "output_type": "display_data"
    },
    {
     "data": {
      "application/vnd.jupyter.widget-view+json": {
       "model_id": "",
       "version_major": 2,
       "version_minor": 0
      },
      "text/plain": [
       "VBox(children=(Label(value=' 0.00MB of 0.00MB uploaded (0.00MB deduped)\\r'), FloatProgress(value=1.0, max=1.0)…"
      ]
     },
     "metadata": {},
     "output_type": "display_data"
    },
    {
     "data": {
      "text/html": [
       "Find user logs for this run at: <code>C:\\Users\\aar245.CORNELL\\Desktop\\privacy_preserving_nn\\src_2\\wandb\\run-20220121_183230-zanp6743\\logs\\debug.log</code>"
      ],
      "text/plain": [
       "<IPython.core.display.HTML object>"
      ]
     },
     "metadata": {},
     "output_type": "display_data"
    },
    {
     "data": {
      "text/html": [
       "Find internal logs for this run at: <code>C:\\Users\\aar245.CORNELL\\Desktop\\privacy_preserving_nn\\src_2\\wandb\\run-20220121_183230-zanp6743\\logs\\debug-internal.log</code>"
      ],
      "text/plain": [
       "<IPython.core.display.HTML object>"
      ]
     },
     "metadata": {},
     "output_type": "display_data"
    },
    {
     "data": {
      "text/html": [
       "Synced 6 W&B file(s), 0 media file(s), 0 artifact file(s) and 0 other file(s)"
      ],
      "text/plain": [
       "<IPython.core.display.HTML object>"
      ]
     },
     "metadata": {},
     "output_type": "display_data"
    },
    {
     "data": {
      "text/html": [
       "\n",
       "                    <br/>Synced <strong style=\"color:#cdcd00\">earthy-night-6</strong>: <a href=\"https://wandb.ai/nilm/FL%20toy%20example/runs/zanp6743\" target=\"_blank\">https://wandb.ai/nilm/FL%20toy%20example/runs/zanp6743</a><br/>\n",
       "                "
      ],
      "text/plain": [
       "<IPython.core.display.HTML object>"
      ]
     },
     "metadata": {},
     "output_type": "display_data"
    }
   ],
   "source": [
    "# IID case: all the clients have images of all the classes\n",
    "\n",
    "# Creating decentralized datasets\n",
    "\n",
    "traindata = datasets.MNIST('./data', train=True, download=True,\n",
    "                       transform=transforms.Compose([transforms.ToTensor(),transforms.Normalize((0.1307,), (0.3081,))])\n",
    "                       )\n",
    "traindata_split = torch.utils.data.random_split(traindata, [int(traindata.data.shape[0] / hyperparameters['num_clients']) for _ in range(hyperparameters['num_clients'])])\n",
    "train_loader = [torch.utils.data.DataLoader(x, batch_size=hyperparameters['batch_size'], shuffle=True) for x in traindata_split]\n",
    "\n",
    "test_loader = torch.utils.data.DataLoader(\n",
    "        datasets.MNIST('./data', train=False, transform=transforms.Compose([transforms.ToTensor(),transforms.Normalize((0.1307,), (0.3081,))])\n",
    "        ), batch_size=hyperparameters['batch_size'], shuffle=True)\n",
    "\n",
    "# Instantiate models and optimizers\n",
    "\n",
    "with wandb.init(project=\"FL toy example\", config=hyperparameters):\n",
    "    wandb.run.name = \"Trial 1\"\n",
    "    \n",
    "    global_model = Net().to(device)\n",
    "    client_models = [Net().to(device) for _ in range(hyperparameters[\"num_selected\"])]\n",
    "    for model in client_models:\n",
    "        model.load_state_dict(global_model.state_dict())\n",
    "\n",
    "    opt = [optim.SGD(model.parameters(), lr=0.1) for model in client_models]\n",
    "    \n",
    "    wandb.watch(global_model, log=\"all\", log_freq=10)\n",
    "\n",
    "    # Runnining FL\n",
    "    client_idx = np.random.permutation(hyperparameters[\"num_clients\"])[:hyperparameters[\"num_selected\"]]\n",
    "    for r in range(hyperparameters[\"num_rounds\"]):\n",
    "        # select random clients\n",
    "        #client_idx = np.random.permutation(hyperparameters[\"num_clients\"])[:hyperparameters[\"num_selected\"]]\n",
    "        print(client_idx)\n",
    "\n",
    "        # client update\n",
    "        loss = 0\n",
    "        for i in range(hyperparameters[\"num_selected\"]):\n",
    "            loss += client_update(client_models[i], opt[i], train_loader[client_idx[i]], epoch=hyperparameters[\"epochs\"])\n",
    "\n",
    "        # serer aggregate\n",
    "        server_aggregate(global_model, client_models)\n",
    "        test_loss, acc = test(global_model, test_loader)\n",
    "\n",
    "        print('%d-th round' % r)\n",
    "        print('average train loss %0.3g | test loss %0.3g | test acc: %0.3f' % (loss / hyperparameters[\"num_selected\"], test_loss, acc))"
   ]
  },
  {
   "cell_type": "code",
   "execution_count": 12,
   "id": "6074d681",
   "metadata": {},
   "outputs": [
    {
     "name": "stdout",
     "output_type": "stream",
     "text": [
      "average train loss 0.000904 | test loss 0.0398 | test acc: 0.989\n"
     ]
    }
   ],
   "source": [
    "traindata = datasets.MNIST('./data', train=True, download=True,\n",
    "                       transform=transforms.Compose([transforms.ToTensor(),transforms.Normalize((0.1307,), (0.3081,))])\n",
    "                       )\n",
    "\n",
    "train_loader = torch.utils.data.DataLoader(traindata, batch_size=hyperparameters['batch_size'], shuffle=True)\n",
    "\n",
    "test_loader = torch.utils.data.DataLoader(\n",
    "        datasets.MNIST('./data', train=False, transform=transforms.Compose([transforms.ToTensor(),transforms.Normalize((0.1307,), (0.3081,))])\n",
    "        ), batch_size=hyperparameters['batch_size'], shuffle=True)\n",
    "\n",
    "global_model = Net().cuda()\n",
    "\n",
    "opt = optim.SGD(global_model.parameters(), lr=0.1)\n",
    "\n",
    "loss = 0\n",
    "\n",
    "loss += client_update(global_model, opt, train_loader, epoch=hyperparameters['epochs'])\n",
    "\n",
    "# serer aggregate\n",
    "test_loss, acc = test(global_model, test_loader)\n",
    "\n",
    "print('average train loss %0.3g | test loss %0.3g | test acc: %0.3f' % (loss , test_loss, acc))"
   ]
  },
  {
   "cell_type": "code",
   "execution_count": null,
   "id": "3976dbc1",
   "metadata": {},
   "outputs": [],
   "source": []
  }
 ],
 "metadata": {
  "kernelspec": {
   "display_name": "mlenv",
   "language": "python",
   "name": "mlenv"
  },
  "language_info": {
   "codemirror_mode": {
    "name": "ipython",
    "version": 3
   },
   "file_extension": ".py",
   "mimetype": "text/x-python",
   "name": "python",
   "nbconvert_exporter": "python",
   "pygments_lexer": "ipython3",
   "version": "3.8.5"
  }
 },
 "nbformat": 4,
 "nbformat_minor": 5
}
