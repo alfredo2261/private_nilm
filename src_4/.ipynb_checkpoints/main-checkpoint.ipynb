{
 "cells": [
  {
   "cell_type": "code",
   "execution_count": 1,
   "id": "937e8860",
   "metadata": {},
   "outputs": [],
   "source": [
    "import wandb\n",
    "from data_loaders import make_train_data, make_test_val_data, make_model\n",
    "from train import train, test, precision, recall, f1_score\n",
    "import torch\n",
    "import time\n",
    "import gc\n",
    "import config_file\n",
    "from clean_data_seq2point import load_all_houses_with_device\n",
    "import random\n",
    "import optuna\n",
    "from data_loaders import PecanStreetDataset\n",
    "from torch.utils.data import Dataset, DataLoader\n",
    "import matplotlib.pyplot as plt\n",
    "import numpy as np\n",
    "from lstm_seq2point import LSTM\n",
    "from clean_data_seq2point import normalize_y\n",
    "from sklearn import metrics\n",
    "import pandas as pd\n",
    "from scipy import stats\n",
    "from matplotlib.lines import Line2D\n",
    "import matplotlib.transforms"
   ]
  },
  {
   "cell_type": "code",
   "execution_count": 2,
   "id": "0fee6b97",
   "metadata": {},
   "outputs": [
    {
     "name": "stderr",
     "output_type": "stream",
     "text": [
      "\u001b[34m\u001b[1mwandb\u001b[0m: Currently logged in as: \u001b[33mnilm\u001b[0m (use `wandb login --relogin` to force relogin)\n"
     ]
    },
    {
     "name": "stdout",
     "output_type": "stream",
     "text": [
      "True\n",
      "1.10.2\n"
     ]
    }
   ],
   "source": [
    "wandb.login()\n",
    "\n",
    "print(torch.cuda.is_available())\n",
    "\n",
    "gc.collect()\n",
    "torch.cuda.empty_cache()\n",
    "\n",
    "print(torch.__version__)"
   ]
  },
  {
   "cell_type": "code",
   "execution_count": 3,
   "id": "09f39938",
   "metadata": {},
   "outputs": [],
   "source": [
    "config_ = config_file.load_hyperparameters(\"refrigerator1\")"
   ]
  },
  {
   "cell_type": "code",
   "execution_count": 4,
   "id": "bef2e037",
   "metadata": {},
   "outputs": [],
   "source": [
    "homes = load_all_houses_with_device(config_file.path, config_['appliance'])"
   ]
  },
  {
   "cell_type": "code",
   "execution_count": 5,
   "id": "2d44b257",
   "metadata": {},
   "outputs": [],
   "source": [
    "def model_pipeline(hyperparameters, train_months, test_month, appliance, window_length, train_buildings,\n",
    "                   test_buildings, patience):\n",
    "    with wandb.init(project=\"global_models_feb10\", config=hyperparameters):\n",
    "        wandb.run.name = str(config_['appliance'])+\"_Test:\"+str(test_buildings)+\"_Train:\" + str(train_buildings)\n",
    "\n",
    "        config = wandb.config\n",
    "\n",
    "        # lengths = [85320, 132480, 132480, 132480, 132480, 132480, 132480]\n",
    "\n",
    "        model, criterion, optimizer = make_model(config)\n",
    "\n",
    "        print(model)\n",
    "        print(\"Window Length: \", window_length)\n",
    "\n",
    "        wandb.watch(model, criterion, log=\"all\", log_freq=10)\n",
    "\n",
    "        example_ct = 0\n",
    "        batch_ct = 0\n",
    "        all_epochs = 0\n",
    "\n",
    "        #Scheduler for training on single building\n",
    "        scheduler = torch.optim.lr_scheduler.StepLR(optimizer, step_size=5, gamma=0.95, verbose=True)\n",
    "        \n",
    "        #base_lr: 0.001*lr, max_lr: 4*lr, step_size_up:50, step_size_down:2000\n",
    "#         scheduler = torch.optim.lr_scheduler.CyclicLR(\n",
    "#             optimizer,\n",
    "#             base_lr = config_['learning_rate'], #0.01\n",
    "#             max_lr = 1.1*config_['learning_rate'], #1\n",
    "#             step_size_up = 10000, #200\n",
    "#             step_size_down = 10000, #1000\n",
    "#             gamma = 0.95, #1\n",
    "#             cycle_momentum=False,\n",
    "#             verbose=False\n",
    "#         )\n",
    "\n",
    "        validation_loader, test_loader, test_val_seq_std, test_val_seq_mean = make_test_val_data(\n",
    "            config,\n",
    "            test_month,\n",
    "            appliance,\n",
    "            window_length,\n",
    "            test_buildings\n",
    "        )\n",
    "\n",
    "        time_log = time.time()\n",
    "        train_loader, train_seq_std, train_seq_mean = make_train_data(\n",
    "            config,\n",
    "            train_months,\n",
    "            appliance,\n",
    "            window_length,\n",
    "            train_buildings\n",
    "        )\n",
    "        \n",
    "        model, example_ct, batch_ct, all_epochs, best_model = train( \n",
    "            model,\n",
    "            train_loader,\n",
    "            validation_loader,\n",
    "            criterion,\n",
    "            optimizer,\n",
    "            config,\n",
    "            example_ct,\n",
    "            batch_ct,\n",
    "            all_epochs,\n",
    "            scheduler,\n",
    "            test_val_seq_std,\n",
    "            test_val_seq_mean,\n",
    "            train_seq_std,\n",
    "            train_seq_mean,\n",
    "            patience\n",
    "        )\n",
    "\n",
    "        print(\"Time to train on one home: \", time.time() - time_log)\n",
    "\n",
    "        results = test(best_model, test_loader, criterion, test_val_seq_std, test_val_seq_mean)\n",
    "\n",
    "    return model, results, best_model\n"
   ]
  },
  {
   "cell_type": "code",
   "execution_count": 6,
   "id": "d3f25bf0",
   "metadata": {},
   "outputs": [],
   "source": [
    "home_ids = homes.dataid.unique()"
   ]
  },
  {
   "cell_type": "code",
   "execution_count": 7,
   "id": "df8df2f6",
   "metadata": {},
   "outputs": [
    {
     "data": {
      "text/plain": [
       "38"
      ]
     },
     "execution_count": 7,
     "metadata": {},
     "output_type": "execute_result"
    }
   ],
   "source": [
    "len(home_ids)"
   ]
  },
  {
   "cell_type": "code",
   "execution_count": 8,
   "id": "0a7bfbbb",
   "metadata": {},
   "outputs": [
    {
     "data": {
      "text/plain": [
       "array([  142,   183,   335,   387,   526,  1240,  1417,  2126,  2358,\n",
       "        3383,  3488,  3976,  3996,  5058,  5192,  6069,  6178,  6240,\n",
       "        6526,  6564,  6594,  6672,  6703,  7069,  7365,  7935,  8627,\n",
       "        8825,  9002,  9004,  9053,  9290, 10182, 10811, 10983, 11421,\n",
       "       11785, 11878], dtype=int64)"
      ]
     },
     "execution_count": 8,
     "metadata": {},
     "output_type": "execute_result"
    }
   ],
   "source": [
    "home_ids"
   ]
  },
  {
   "cell_type": "code",
   "execution_count": 9,
   "id": "3671cbe0",
   "metadata": {},
   "outputs": [],
   "source": [
    "random_select = [2,3,4,5,6,7,8,9,10,15,20,25,30,35,38]\n",
    "#random_select = [len(home_ids)]\n",
    "#random_select = [53]"
   ]
  },
  {
   "cell_type": "code",
   "execution_count": 10,
   "id": "dff4a1c7",
   "metadata": {},
   "outputs": [],
   "source": [
    "PATH = r\"C:\\Users\\aar245\\Desktop\\privacy_preserving_nn\\models_squ_foot_filter\""
   ]
  },
  {
   "cell_type": "code",
   "execution_count": 11,
   "id": "8370b0b4",
   "metadata": {},
   "outputs": [],
   "source": [
    "train_homes_from_fl = [\n",
    "    [5058, 2358, 8825, 10811, 526],\n",
    "    [142, 10811, 2358, 6240, 2126, 1417, 7365, 5058, 10182, 9004],\n",
    "    [9053, 2561, 2126, 7021, 526, 9973, 6178, 3700, 8825, 142, 7069, 335, 690, 6526, 183],\n",
    "    [183, 6240, 5058, 6672, 8825, 3700, 7365, 9053, 3976, 9973, 6526, 3996, 526, 3488, 387, 11878, 7021, 10811, 9290, 6178],\n",
    "    [6672, 9290, 6178, 10983, 3700, 6526, 3488, 6240, 9973, 3976, 9004, 2126, 3383, 142, 2358, 690, 7021, 387, 10182, 10811, 5058, 8825, 2561, 526, 3996],\n",
    "    [526, 10811, 9973, 7021, 5058, 335, 3488, 9053, 10983, 3976, 11878, 142, 2561, 8825, 6672, 387, 183, 6178, 1417, 9290, 10182, 690, 2358, 7365, 3383, 6240, 7069, 9004, 3996, 3700],\n",
    "    [5058, 2358, 3488, 10182, 6672, 11878, 7021, 6526, 335, 10164, 142, 9973, 10983, 6240, 2126, 1417, 7069, 6178, 8825, 3383, 9004, 387, 3976, 3700, 9290, 3996, 690, 7365, 9053, 183, 2561, 526, 10811]\n",
    "]"
   ]
  },
  {
   "cell_type": "code",
   "execution_count": 12,
   "id": "feba4843",
   "metadata": {},
   "outputs": [],
   "source": [
    "test_homes_from_fl = [526, 5058, 526, 3488, 10983, 7021, 2358]"
   ]
  },
  {
   "cell_type": "code",
   "execution_count": 14,
   "id": "f28b465c",
   "metadata": {
    "scrolled": true
   },
   "outputs": [
    {
     "name": "stdout",
     "output_type": "stream",
     "text": [
      "patience:  20\n",
      "training_home:  [3383]\n",
      "test_home:  [3383]\n"
     ]
    },
    {
     "name": "stderr",
     "output_type": "stream",
     "text": [
      "\u001b[34m\u001b[1mwandb\u001b[0m: wandb version 0.12.10 is available!  To upgrade, please run:\n",
      "\u001b[34m\u001b[1mwandb\u001b[0m:  $ pip install wandb --upgrade\n"
     ]
    },
    {
     "data": {
      "text/html": [
       "\n",
       "                    Syncing run <strong><a href=\"https://wandb.ai/nilm/global_models_feb10/runs/3oudjcl0\" target=\"_blank\">faithful-dragon-136</a></strong> to <a href=\"https://wandb.ai/nilm/global_models_feb10\" target=\"_blank\">Weights & Biases</a> (<a href=\"https://docs.wandb.com/integrations/jupyter.html\" target=\"_blank\">docs</a>).<br/>\n",
       "\n",
       "                "
      ],
      "text/plain": [
       "<IPython.core.display.HTML object>"
      ]
     },
     "metadata": {},
     "output_type": "display_data"
    },
    {
     "name": "stdout",
     "output_type": "stream",
     "text": [
      "LSTM(\n",
      "  (conv1): Conv1d(1, 30, kernel_size=(10,), stride=(1,))\n",
      "  (conv2): Conv1d(30, 30, kernel_size=(8,), stride=(1,))\n",
      "  (conv3): Conv1d(30, 40, kernel_size=(6,), stride=(1,))\n",
      "  (conv4): Conv1d(40, 50, kernel_size=(5,), stride=(1,))\n",
      "  (conv5): Conv1d(50, 50, kernel_size=(5,), stride=(1,))\n",
      "  (linear1): Linear(in_features=23500, out_features=1024, bias=True)\n",
      "  (linear2): Linear(in_features=1024, out_features=1, bias=True)\n",
      "  (relu): ReLU()\n",
      "  (leaky): LeakyReLU(negative_slope=0.01)\n",
      "  (dropout): Dropout(p=0.2, inplace=False)\n",
      ")\n",
      "Window Length:  499\n",
      "Adjusting learning rate of group 0 to 3.3181e-04.\n",
      "Adjusting learning rate of group 0 to 3.3181e-04.\n",
      "trigger times: 0\n",
      "Loss after 185792 batches: 0.4569\n",
      "Adjusting learning rate of group 0 to 3.3181e-04.\n",
      "trigger times: 0\n",
      "Loss after 371584 batches: 0.2705\n",
      "Adjusting learning rate of group 0 to 3.3181e-04.\n",
      "trigger times: 0\n",
      "Loss after 557376 batches: 0.2017\n",
      "Adjusting learning rate of group 0 to 3.3181e-04.\n",
      "trigger times: 1\n",
      "Loss after 743168 batches: 0.1461\n",
      "Adjusting learning rate of group 0 to 3.1522e-04.\n",
      "trigger times: 2\n",
      "Loss after 928960 batches: 0.1099\n",
      "Adjusting learning rate of group 0 to 3.1522e-04.\n",
      "trigger times: 3\n",
      "Loss after 1114752 batches: 0.0878\n",
      "Adjusting learning rate of group 0 to 3.1522e-04.\n",
      "trigger times: 0\n",
      "Loss after 1300544 batches: 0.0729\n",
      "Adjusting learning rate of group 0 to 3.1522e-04.\n",
      "trigger times: 1\n",
      "Loss after 1486336 batches: 0.0648\n",
      "Adjusting learning rate of group 0 to 3.1522e-04.\n",
      "trigger times: 0\n",
      "Loss after 1672128 batches: 0.0588\n",
      "Adjusting learning rate of group 0 to 2.9946e-04.\n",
      "trigger times: 1\n",
      "Loss after 1857920 batches: 0.0533\n",
      "Adjusting learning rate of group 0 to 2.9946e-04.\n",
      "trigger times: 0\n",
      "Loss after 2043712 batches: 0.0486\n",
      "Adjusting learning rate of group 0 to 2.9946e-04.\n",
      "trigger times: 1\n",
      "Loss after 2229504 batches: 0.0444\n",
      "Adjusting learning rate of group 0 to 2.9946e-04.\n",
      "trigger times: 0\n",
      "Loss after 2415296 batches: 0.0420\n",
      "Adjusting learning rate of group 0 to 2.9946e-04.\n",
      "trigger times: 0\n",
      "Loss after 2601088 batches: 0.0390\n",
      "Adjusting learning rate of group 0 to 2.8448e-04.\n",
      "trigger times: 0\n",
      "Loss after 2786880 batches: 0.0374\n",
      "Adjusting learning rate of group 0 to 2.8448e-04.\n",
      "trigger times: 1\n",
      "Loss after 2972672 batches: 0.0338\n",
      "Adjusting learning rate of group 0 to 2.8448e-04.\n",
      "trigger times: 2\n",
      "Loss after 3158464 batches: 0.0325\n",
      "Adjusting learning rate of group 0 to 2.8448e-04.\n",
      "trigger times: 3\n",
      "Loss after 3344256 batches: 0.0312\n",
      "Adjusting learning rate of group 0 to 2.8448e-04.\n",
      "trigger times: 0\n",
      "Loss after 3530048 batches: 0.0295\n",
      "Adjusting learning rate of group 0 to 2.7026e-04.\n",
      "trigger times: 1\n",
      "Loss after 3715840 batches: 0.0282\n",
      "Adjusting learning rate of group 0 to 2.7026e-04.\n",
      "trigger times: 0\n",
      "Loss after 3901632 batches: 0.0263\n",
      "Adjusting learning rate of group 0 to 2.7026e-04.\n",
      "trigger times: 0\n",
      "Loss after 4087424 batches: 0.0251\n",
      "Adjusting learning rate of group 0 to 2.7026e-04.\n",
      "trigger times: 0\n",
      "Loss after 4273216 batches: 0.0245\n",
      "Adjusting learning rate of group 0 to 2.7026e-04.\n",
      "trigger times: 1\n",
      "Loss after 4459008 batches: 0.0239\n",
      "Adjusting learning rate of group 0 to 2.5675e-04.\n",
      "trigger times: 2\n",
      "Loss after 4644800 batches: 0.0230\n",
      "Adjusting learning rate of group 0 to 2.5675e-04.\n",
      "trigger times: 3\n",
      "Loss after 4830592 batches: 0.0222\n",
      "Adjusting learning rate of group 0 to 2.5675e-04.\n",
      "trigger times: 0\n",
      "Loss after 5016384 batches: 0.0210\n",
      "Adjusting learning rate of group 0 to 2.5675e-04.\n",
      "trigger times: 1\n",
      "Loss after 5202176 batches: 0.0206\n",
      "Adjusting learning rate of group 0 to 2.5675e-04.\n",
      "trigger times: 2\n",
      "Loss after 5387968 batches: 0.0203\n"
     ]
    },
    {
     "data": {
      "text/html": [
       "<br/>Waiting for W&B process to finish, PID 11952... <strong style=\"color:red\">(failed 1).</strong> Press ctrl-c to abort syncing."
      ],
      "text/plain": [
       "<IPython.core.display.HTML object>"
      ]
     },
     "metadata": {},
     "output_type": "display_data"
    },
    {
     "data": {
      "application/vnd.jupyter.widget-view+json": {
       "model_id": "",
       "version_major": 2,
       "version_minor": 0
      },
      "text/plain": [
       "VBox(children=(Label(value=' 0.00MB of 0.00MB uploaded (0.00MB deduped)\\r'), FloatProgress(value=1.0, max=1.0)…"
      ]
     },
     "metadata": {},
     "output_type": "display_data"
    },
    {
     "data": {
      "text/html": [
       "<style>\n",
       "    table.wandb td:nth-child(1) { padding: 0 10px; text-align: right }\n",
       "    .wandb-row { display: flex; flex-direction: row; flex-wrap: wrap; width: 100% }\n",
       "    .wandb-col { display: flex; flex-direction: column; flex-basis: 100%; flex: 1; padding: 10px; }\n",
       "    </style>\n",
       "<div class=\"wandb-row\"><div class=\"wandb-col\">\n",
       "<h3>Run history:</h3><br/><table class=\"wandb\"><tr><td>Training_F1</td><td>▁▃▄▅▆▆▇▇▇▇▇▇▇▇▇██████████████</td></tr><tr><td>Training_Loss</td><td>█▅▄▃▂▂▂▂▂▂▁▁▁▁▁▁▁▁▁▁▁▁▁▁▁▁▁▁▁</td></tr><tr><td>Training_MAE</td><td>█▆▅▄▃▃▂▂▂▂▂▂▂▂▂▁▁▁▁▁▁▁▁▁▁▁▁▁▁</td></tr><tr><td>Training_MSE</td><td>█▅▄▃▂▂▂▂▂▂▁▁▁▁▁▁▁▁▁▁▁▁▁▁▁▁▁▁▁</td></tr><tr><td>Training_NDE</td><td>█▅▄▃▂▂▂▂▂▂▁▁▁▁▁▁▁▁▁▁▁▁▁▁▁▁▁▁▁</td></tr><tr><td>Training_NEP</td><td>█▆▅▄▃▃▂▂▂▂▂▂▂▂▂▁▁▁▁▁▁▁▁▁▁▁▁▁▁</td></tr><tr><td>Training_R2</td><td>▁▄▅▆▇▇▇▇▇▇███████████████████</td></tr><tr><td>Validation_F1</td><td>▁▃▃▃▃▃▄▄▅▅▄▄▅▆▆▆▆▆▇▆▇█▇█▇▇██▇</td></tr><tr><td>Validation_Loss</td><td>█▆▅▇▆▆▄▄▄▅▅▆▄▄▃▄▄▄▄▄▂▁▂▂▃▃▂▃▂</td></tr><tr><td>Validation_MAE</td><td>█▆▅▆▆▆▄▅▄▅▄▄▃▃▃▃▃▃▂▃▂▁▁▁▂▂▁▂▁</td></tr><tr><td>Validation_MSE</td><td>█▆▅▇▆▆▄▄▄▅▅▆▄▄▂▄▄▄▄▄▂▁▂▂▂▃▂▃▂</td></tr><tr><td>Validation_NDE</td><td>█▆▅▇▆▆▄▄▄▅▅▆▄▄▂▄▄▄▄▄▂▁▂▂▂▃▂▃▂</td></tr><tr><td>Validation_NEP</td><td>█▆▅▆▆▆▄▅▄▅▄▄▃▃▃▃▃▃▂▃▂▁▁▁▂▂▁▂▁</td></tr><tr><td>Validation_R2</td><td>▁▃▄▂▃▃▅▅▅▄▄▃▅▅▇▅▅▅▅▅▇█▇▇▇▆▇▆▇</td></tr></table><br/></div><div class=\"wandb-col\">\n",
       "<h3>Run summary:</h3><br/><table class=\"wandb\"><tr><td>Training_F1</td><td>0.94291</td></tr><tr><td>Training_Loss</td><td>0.02027</td></tr><tr><td>Training_MAE</td><td>6.52322</td></tr><tr><td>Training_MSE</td><td>87.48353</td></tr><tr><td>Training_NDE</td><td>0.01154</td></tr><tr><td>Training_NEP</td><td>0.1142</td></tr><tr><td>Training_R2</td><td>0.97973</td></tr><tr><td>Validation_F1</td><td>0.79614</td></tr><tr><td>Validation_Loss</td><td>0.38867</td></tr><tr><td>Validation_MAE</td><td>24.76265</td></tr><tr><td>Validation_MSE</td><td>1719.14661</td></tr><tr><td>Validation_NDE</td><td>0.20982</td></tr><tr><td>Validation_NEP</td><td>0.40642</td></tr><tr><td>Validation_R2</td><td>0.61637</td></tr></table>\n",
       "</div></div>\n",
       "Synced 6 W&B file(s), 0 media file(s), 0 artifact file(s) and 1 other file(s)\n",
       "<br/>Synced <strong style=\"color:#cdcd00\">faithful-dragon-136</strong>: <a href=\"https://wandb.ai/nilm/global_models_feb10/runs/3oudjcl0\" target=\"_blank\">https://wandb.ai/nilm/global_models_feb10/runs/3oudjcl0</a><br/>\n",
       "Find logs at: <code>.\\wandb\\run-20220221_222156-3oudjcl0\\logs</code><br/>\n"
      ],
      "text/plain": [
       "<IPython.core.display.HTML object>"
      ]
     },
     "metadata": {},
     "output_type": "display_data"
    },
    {
     "ename": "KeyboardInterrupt",
     "evalue": "",
     "output_type": "error",
     "traceback": [
      "\u001b[1;31m---------------------------------------------------------------------------\u001b[0m",
      "\u001b[1;31mKeyboardInterrupt\u001b[0m                         Traceback (most recent call last)",
      "\u001b[1;32m~\\AppData\\Local\\Temp\\2/ipykernel_14508/3339722734.py\u001b[0m in \u001b[0;36m<module>\u001b[1;34m\u001b[0m\n\u001b[0;32m     19\u001b[0m     \u001b[0mprint\u001b[0m\u001b[1;33m(\u001b[0m\u001b[1;34m\"training_home: \"\u001b[0m\u001b[1;33m,\u001b[0m \u001b[0mtraining_homes\u001b[0m\u001b[1;33m)\u001b[0m\u001b[1;33m\u001b[0m\u001b[1;33m\u001b[0m\u001b[0m\n\u001b[0;32m     20\u001b[0m     \u001b[0mprint\u001b[0m\u001b[1;33m(\u001b[0m\u001b[1;34m\"test_home: \"\u001b[0m\u001b[1;33m,\u001b[0m \u001b[0mtesting_homes\u001b[0m\u001b[1;33m)\u001b[0m\u001b[1;33m\u001b[0m\u001b[1;33m\u001b[0m\u001b[0m\n\u001b[1;32m---> 21\u001b[1;33m     model, per_house_result, best_model = model_pipeline(\n\u001b[0m\u001b[0;32m     22\u001b[0m     \u001b[0mconfig_\u001b[0m\u001b[1;33m,\u001b[0m\u001b[1;33m\u001b[0m\u001b[1;33m\u001b[0m\u001b[0m\n\u001b[0;32m     23\u001b[0m     \u001b[1;34m'sept_oct_nov'\u001b[0m\u001b[1;33m,\u001b[0m\u001b[1;33m\u001b[0m\u001b[1;33m\u001b[0m\u001b[0m\n",
      "\u001b[1;32m~\\AppData\\Local\\Temp\\2/ipykernel_14508/2996004637.py\u001b[0m in \u001b[0;36mmodel_pipeline\u001b[1;34m(hyperparameters, train_months, test_month, appliance, window_length, train_buildings, test_buildings, patience)\u001b[0m\n\u001b[0;32m     51\u001b[0m         )\n\u001b[0;32m     52\u001b[0m \u001b[1;33m\u001b[0m\u001b[0m\n\u001b[1;32m---> 53\u001b[1;33m         model, example_ct, batch_ct, all_epochs, best_model = train( \n\u001b[0m\u001b[0;32m     54\u001b[0m             \u001b[0mmodel\u001b[0m\u001b[1;33m,\u001b[0m\u001b[1;33m\u001b[0m\u001b[1;33m\u001b[0m\u001b[0m\n\u001b[0;32m     55\u001b[0m             \u001b[0mtrain_loader\u001b[0m\u001b[1;33m,\u001b[0m\u001b[1;33m\u001b[0m\u001b[1;33m\u001b[0m\u001b[0m\n",
      "\u001b[1;32m~\\Desktop\\privacy_preserving_nn\\src_3\\train.py\u001b[0m in \u001b[0;36mtrain\u001b[1;34m(model, loader, validation_loader, criterion, optimizer, config, example_ct, batch_ct, all_epochs, scheduler, val_seq_std, val_seq_mean, train_seq_std, train_seq_mean, patience)\u001b[0m\n\u001b[0;32m     45\u001b[0m \u001b[1;33m\u001b[0m\u001b[0m\n\u001b[0;32m     46\u001b[0m         \u001b[1;32mfor\u001b[0m \u001b[0m_\u001b[0m\u001b[1;33m,\u001b[0m \u001b[1;33m(\u001b[0m\u001b[0mfeatures\u001b[0m\u001b[1;33m,\u001b[0m \u001b[0mlabels\u001b[0m\u001b[1;33m)\u001b[0m \u001b[1;32min\u001b[0m \u001b[0menumerate\u001b[0m\u001b[1;33m(\u001b[0m\u001b[0mloader\u001b[0m\u001b[1;33m)\u001b[0m\u001b[1;33m:\u001b[0m\u001b[1;33m\u001b[0m\u001b[1;33m\u001b[0m\u001b[0m\n\u001b[1;32m---> 47\u001b[1;33m             \u001b[0mtrain_predictions\u001b[0m\u001b[1;33m,\u001b[0m \u001b[0mtrain_true_vals\u001b[0m\u001b[1;33m,\u001b[0m \u001b[0mloss\u001b[0m \u001b[1;33m=\u001b[0m \u001b[0mtrain_batch\u001b[0m\u001b[1;33m(\u001b[0m\u001b[0mfeatures\u001b[0m\u001b[1;33m,\u001b[0m \u001b[0mlabels\u001b[0m\u001b[1;33m,\u001b[0m \u001b[0mmodel\u001b[0m\u001b[1;33m,\u001b[0m \u001b[0moptimizer\u001b[0m\u001b[1;33m,\u001b[0m \u001b[0mcriterion\u001b[0m\u001b[1;33m)\u001b[0m\u001b[1;33m\u001b[0m\u001b[1;33m\u001b[0m\u001b[0m\n\u001b[0m\u001b[0;32m     48\u001b[0m             \u001b[0mepoch_total_loss\u001b[0m \u001b[1;33m+=\u001b[0m \u001b[0mfloat\u001b[0m\u001b[1;33m(\u001b[0m\u001b[0mloss\u001b[0m\u001b[1;33m.\u001b[0m\u001b[0mitem\u001b[0m\u001b[1;33m(\u001b[0m\u001b[1;33m)\u001b[0m\u001b[1;33m)\u001b[0m\u001b[1;33m\u001b[0m\u001b[1;33m\u001b[0m\u001b[0m\n\u001b[0;32m     49\u001b[0m             \u001b[0mepoch_predictions\u001b[0m\u001b[1;33m.\u001b[0m\u001b[0mappend\u001b[0m\u001b[1;33m(\u001b[0m\u001b[0mtrain_predictions\u001b[0m\u001b[1;33m)\u001b[0m\u001b[1;33m\u001b[0m\u001b[1;33m\u001b[0m\u001b[0m\n",
      "\u001b[1;32m~\\Desktop\\privacy_preserving_nn\\src_3\\train.py\u001b[0m in \u001b[0;36mtrain_batch\u001b[1;34m(features, labels, model, optimizer, criterion)\u001b[0m\n\u001b[0;32m    210\u001b[0m     \u001b[0my_true\u001b[0m \u001b[1;33m=\u001b[0m \u001b[0mlabels\u001b[0m\u001b[1;33m.\u001b[0m\u001b[0mcpu\u001b[0m\u001b[1;33m(\u001b[0m\u001b[1;33m)\u001b[0m\u001b[1;33m.\u001b[0m\u001b[0mdetach\u001b[0m\u001b[1;33m(\u001b[0m\u001b[1;33m)\u001b[0m\u001b[1;33m.\u001b[0m\u001b[0mnumpy\u001b[0m\u001b[1;33m(\u001b[0m\u001b[1;33m)\u001b[0m\u001b[1;33m\u001b[0m\u001b[1;33m\u001b[0m\u001b[0m\n\u001b[0;32m    211\u001b[0m \u001b[1;33m\u001b[0m\u001b[0m\n\u001b[1;32m--> 212\u001b[1;33m     \u001b[0mloss\u001b[0m\u001b[1;33m.\u001b[0m\u001b[0mbackward\u001b[0m\u001b[1;33m(\u001b[0m\u001b[1;33m)\u001b[0m\u001b[1;33m\u001b[0m\u001b[1;33m\u001b[0m\u001b[0m\n\u001b[0m\u001b[0;32m    213\u001b[0m \u001b[1;33m\u001b[0m\u001b[0m\n\u001b[0;32m    214\u001b[0m     \u001b[0moptimizer\u001b[0m\u001b[1;33m.\u001b[0m\u001b[0mstep\u001b[0m\u001b[1;33m(\u001b[0m\u001b[1;33m)\u001b[0m\u001b[1;33m\u001b[0m\u001b[1;33m\u001b[0m\u001b[0m\n",
      "\u001b[1;32m~\\Anaconda3\\envs\\privacy_ml_env\\lib\\site-packages\\torch\\_tensor.py\u001b[0m in \u001b[0;36mbackward\u001b[1;34m(self, gradient, retain_graph, create_graph, inputs)\u001b[0m\n\u001b[0;32m    305\u001b[0m                 \u001b[0mcreate_graph\u001b[0m\u001b[1;33m=\u001b[0m\u001b[0mcreate_graph\u001b[0m\u001b[1;33m,\u001b[0m\u001b[1;33m\u001b[0m\u001b[1;33m\u001b[0m\u001b[0m\n\u001b[0;32m    306\u001b[0m                 inputs=inputs)\n\u001b[1;32m--> 307\u001b[1;33m         \u001b[0mtorch\u001b[0m\u001b[1;33m.\u001b[0m\u001b[0mautograd\u001b[0m\u001b[1;33m.\u001b[0m\u001b[0mbackward\u001b[0m\u001b[1;33m(\u001b[0m\u001b[0mself\u001b[0m\u001b[1;33m,\u001b[0m \u001b[0mgradient\u001b[0m\u001b[1;33m,\u001b[0m \u001b[0mretain_graph\u001b[0m\u001b[1;33m,\u001b[0m \u001b[0mcreate_graph\u001b[0m\u001b[1;33m,\u001b[0m \u001b[0minputs\u001b[0m\u001b[1;33m=\u001b[0m\u001b[0minputs\u001b[0m\u001b[1;33m)\u001b[0m\u001b[1;33m\u001b[0m\u001b[1;33m\u001b[0m\u001b[0m\n\u001b[0m\u001b[0;32m    308\u001b[0m \u001b[1;33m\u001b[0m\u001b[0m\n\u001b[0;32m    309\u001b[0m     \u001b[1;32mdef\u001b[0m \u001b[0mregister_hook\u001b[0m\u001b[1;33m(\u001b[0m\u001b[0mself\u001b[0m\u001b[1;33m,\u001b[0m \u001b[0mhook\u001b[0m\u001b[1;33m)\u001b[0m\u001b[1;33m:\u001b[0m\u001b[1;33m\u001b[0m\u001b[1;33m\u001b[0m\u001b[0m\n",
      "\u001b[1;32m~\\Anaconda3\\envs\\privacy_ml_env\\lib\\site-packages\\torch\\autograd\\__init__.py\u001b[0m in \u001b[0;36mbackward\u001b[1;34m(tensors, grad_tensors, retain_graph, create_graph, grad_variables, inputs)\u001b[0m\n\u001b[0;32m    152\u001b[0m         \u001b[0mretain_graph\u001b[0m \u001b[1;33m=\u001b[0m \u001b[0mcreate_graph\u001b[0m\u001b[1;33m\u001b[0m\u001b[1;33m\u001b[0m\u001b[0m\n\u001b[0;32m    153\u001b[0m \u001b[1;33m\u001b[0m\u001b[0m\n\u001b[1;32m--> 154\u001b[1;33m     Variable._execution_engine.run_backward(\n\u001b[0m\u001b[0;32m    155\u001b[0m         \u001b[0mtensors\u001b[0m\u001b[1;33m,\u001b[0m \u001b[0mgrad_tensors_\u001b[0m\u001b[1;33m,\u001b[0m \u001b[0mretain_graph\u001b[0m\u001b[1;33m,\u001b[0m \u001b[0mcreate_graph\u001b[0m\u001b[1;33m,\u001b[0m \u001b[0minputs\u001b[0m\u001b[1;33m,\u001b[0m\u001b[1;33m\u001b[0m\u001b[1;33m\u001b[0m\u001b[0m\n\u001b[0;32m    156\u001b[0m         allow_unreachable=True, accumulate_grad=True)  # allow_unreachable flag\n",
      "\u001b[1;31mKeyboardInterrupt\u001b[0m: "
     ]
    }
   ],
   "source": [
    "final_results = {}\n",
    "random.seed(3)\n",
    "train_homes = []\n",
    "best_models = []\n",
    "max_patience = 200\n",
    "min_patience = 50\n",
    "\n",
    "for i in home_ids:\n",
    "    gc.collect()\n",
    "    torch.cuda.empty_cache()\n",
    "    training_homes=[3383]\n",
    "    #training_homes = random.sample(list(home_ids), k=1)\n",
    "    #training_homes = train_homes_from_fl[-1]\n",
    "    testing_homes = [random.choice(training_homes)]\n",
    "    #testing_homes = [test_homes_from_fl[-1]]\n",
    "    #patience = int((max_patience-min_patience)/(1-random_select[-1])*len(training_homes)+max_patience+(max_patience-min_patience)/(1-random_select[-1]))\n",
    "    patience = 20\n",
    "    print(\"patience: \", patience)\n",
    "    print(\"training_home: \", training_homes)\n",
    "    print(\"test_home: \", testing_homes)\n",
    "    model, per_house_result, best_model = model_pipeline(\n",
    "    config_,\n",
    "    'sept_oct_nov',\n",
    "    'dec',\n",
    "    config_['appliance'],\n",
    "    config_['window_size'],\n",
    "    training_homes,\n",
    "    testing_homes,\n",
    "    patience)\n",
    "    result = {str(config_[\"appliance\"])+\"_Train_home_\"+str(training_homes)+\"_Test_home_\"+str(testing_homes)+\"_total_homes_\"+str(1): per_house_result}\n",
    "    final_results.update(result)\n",
    "    print(final_results)\n",
    "    #model.cpu()\n",
    "    #torch.save(model.state_dict(), PATH+\"\\\\refrigerator_model_total_houses_\"+str(random_select[i])+\"_trial_3.pth\")\n",
    "    best_model.cpu()\n",
    "    model.cpu()\n",
    "    best_models.append(best_model)"
   ]
  },
  {
   "cell_type": "code",
   "execution_count": null,
   "id": "f4615832",
   "metadata": {},
   "outputs": [],
   "source": [
    "np.exp(10e9)"
   ]
  },
  {
   "cell_type": "code",
   "execution_count": null,
   "id": "dcd29cb2",
   "metadata": {},
   "outputs": [],
   "source": [
    "test"
   ]
  },
  {
   "cell_type": "code",
   "execution_count": null,
   "id": "40d1d16f",
   "metadata": {},
   "outputs": [],
   "source": [
    "#Iteratively adding homes to global model, trial 1\n",
    "{'refrigerator1_Train_home_[2126]_Test_home_[2126]_total_homes_1': [0.09093445539474487, -0.014985910154828641, 0.45236979144305295, 0.9847796914909418, 0.701257628591099, 26.599626913521533], 'refrigerator1_Train_home_[3700, 6672, 7021, 335, 142]_Test_home_[335]_total_homes_1': [0.0656757652759552, -0.09652668914534113, 0.4245840864192342, 0.7664727537163236, 0.5843863017219274, 48.183727707719186], 'refrigerator1_Train_home_[2358, 2126, 11878, 5058, 9973, 5058, 7069, 526, 7021, 10164]_Test_home_[7021]_total_homes_1': [0.13397249579429626, -0.40018523219510693, 0.2910230798751214, 0.8850934777759952, 0.7701192994727751, 61.13399976295241], 'refrigerator1_Train_home_[3700, 142, 9053, 690, 10983, 183, 9053, 9973, 2358, 6672, 10811, 3700, 9290, 3996, 9004]_Test_home_[6672]_total_homes_1': [0.042496636509895325, 0.037969506482425586, 0.413924206725173, 0.8057882388974359, 0.6416308549043926, 33.92659721210321], 'refrigerator1_Train_home_[3996, 10811, 10182, 387, 526, 2126, 10983, 3996, 7021, 2561, 6178, 3700, 3488, 6672, 6672, 10182, 7365, 10811, 10164, 11878]_Test_home_[2126]_total_homes_1': [0.0644366666674614, 0.0145451466579819, 0.412771484028735, 0.8989641910315869, 0.680854499185984, 24.28168685511104], 'refrigerator1_Train_home_[8825, 3383, 6240, 6526, 387, 7069, 7021, 11878, 2358, 526, 5058, 7069, 5058, 3488, 335, 10182, 142, 3996, 3976, 387, 6672, 9053, 3700, 6672, 6526]_Test_home_[2358]_total_homes_1': [0.10874124616384506, 0.03966814702721477, 0.25522453925462363, 1.0269965594230064, 0.74486410858908, 33.9225955917141], 'refrigerator1_Train_home_[6178, 11878, 3383, 335, 6672, 183, 1417, 3976, 7021, 690, 183, 10164, 3383, 10983, 10182, 3700, 5058, 6240, 7069, 6672, 6526, 7021, 10983, 6178, 3996, 8825, 2126, 2561, 11878, 6240]_Test_home_[6240]_total_homes_1': [0.12406780570745468, -0.11294304342360695, 0.12954695709894726, 1.1009816272218376, 0.8701382041537851, 31.04498042525673], 'refrigerator1_Train_home_[3488, 9290, 11878, 3383, 3700, 6672, 526, 7021, 3383, 3488, 10811, 7021, 2561, 6178, 6672, 10983, 142, 3700, 7021, 2561, 6672, 690, 1417, 9053, 9973, 2358, 9053, 387, 9290, 11878, 7365, 526, 6178]_Test_home_[3700]_total_homes_1': [0.06764775514602661, -0.271149884470667, 0.43842910749882513, 0.7538627637057354, 0.8185075529036647, 30.15869901375244]}"
   ]
  },
  {
   "cell_type": "code",
   "execution_count": null,
   "id": "2e2790f3",
   "metadata": {},
   "outputs": [],
   "source": [
    "len(best_models)"
   ]
  },
  {
   "cell_type": "code",
   "execution_count": null,
   "id": "1fb5d338",
   "metadata": {},
   "outputs": [],
   "source": [
    "#10 best models: drye1, train 3000, test 3000 aug\n",
    "drye1_trial1"
   ]
  },
  {
   "cell_type": "code",
   "execution_count": null,
   "id": "8c80e488",
   "metadata": {},
   "outputs": [],
   "source": [
    "test_homes = [\n",
    "    4628,\n",
    "    5192\n",
    "]"
   ]
  },
  {
   "cell_type": "code",
   "execution_count": null,
   "id": "8794c014",
   "metadata": {},
   "outputs": [],
   "source": [
    "random_select = [33]"
   ]
  },
  {
   "cell_type": "code",
   "execution_count": null,
   "id": "d33020ec",
   "metadata": {},
   "outputs": [],
   "source": [
    "for i in range(len(best_models)):\n",
    "    best_models[i].cpu()\n",
    "    torch.save(best_models[i].state_dict(), PATH+\"\\\\seq2point_refrigerator_model_squ_foot_filter_\"+str(random_select[i])+\"_homes_trial1.pth\")"
   ]
  },
  {
   "cell_type": "code",
   "execution_count": null,
   "id": "3e36019b",
   "metadata": {},
   "outputs": [],
   "source": [
    "model_test = LSTM(\n",
    "        config_['in_channels'],\n",
    "        config_['out_channels'],\n",
    "        config_['kernel_size'],\n",
    "        config_['hidden_size_1'],\n",
    "        config_['hidden_size_2'],\n",
    "        config_['fc1'],\n",
    "        config_['batch_size'],\n",
    "        config_['window_size'])"
   ]
  },
  {
   "cell_type": "code",
   "execution_count": null,
   "id": "d5271022",
   "metadata": {},
   "outputs": [],
   "source": [
    "model_test.load_state_dict(torch.load(PATH+\"\\\\seq2point_refrigerator_model_squ_foot_filter_2_homes_trial1.pth\"))\n",
    "model_test.eval()"
   ]
  },
  {
   "cell_type": "code",
   "execution_count": null,
   "id": "7e22234f",
   "metadata": {},
   "outputs": [],
   "source": []
  },
  {
   "cell_type": "code",
   "execution_count": null,
   "id": "5ae56465",
   "metadata": {},
   "outputs": [],
   "source": [
    "best_models[0].cpu()"
   ]
  },
  {
   "cell_type": "code",
   "execution_count": null,
   "id": "88d53161",
   "metadata": {},
   "outputs": [],
   "source": [
    "torch.save(best_models[0].state_dict(), PATH+\"\\\\global_refrigerator_model_test_home_142_single_home_jan27.pth\")"
   ]
  },
  {
   "cell_type": "code",
   "execution_count": null,
   "id": "1474ab93",
   "metadata": {},
   "outputs": [],
   "source": []
  },
  {
   "cell_type": "code",
   "execution_count": null,
   "id": "41df4f18",
   "metadata": {},
   "outputs": [],
   "source": [
    "model.cpu()\n",
    "torch.save(model.state_dict(), PATH+\"\\\\dryer_model_total_houses_\"+str(1)+\"_trial_3.pth\")"
   ]
  },
  {
   "cell_type": "code",
   "execution_count": null,
   "id": "d24a827d",
   "metadata": {},
   "outputs": [],
   "source": []
  },
  {
   "cell_type": "code",
   "execution_count": null,
   "id": "7e56a333",
   "metadata": {},
   "outputs": [],
   "source": [
    "#results for training refrigerator1 using MSE 0.09 hyperparameters\n",
    "{'Train_home_[  142   145   387   690   950  1240  1417  2358  2561  2786  3383  3488\\n  3700  3976  3996  4628  5058  5367  5982  6069  6178  6526  6594  6672\\n  6703  6907  7021  7069  8162  8627  8825  9002  9004  9053  9290 10164\\n   984  5192  7365  8849 11878   183   335   526  2126  6240  6564  7935\\n  9973 10182 10811 10983 11785]_Test_home_2358_trial_0': [0.06386639177799225, 0.5221559965325657, 0.756976470829962, 0.539304368116004, 0.18637192749997455, 23.918407925437478]}"
   ]
  },
  {
   "cell_type": "code",
   "execution_count": null,
   "id": "599aa7dc",
   "metadata": {},
   "outputs": [],
   "source": []
  },
  {
   "cell_type": "code",
   "execution_count": null,
   "id": "dc5ea2d0",
   "metadata": {},
   "outputs": [],
   "source": []
  },
  {
   "cell_type": "code",
   "execution_count": null,
   "id": "c517fb0e",
   "metadata": {},
   "outputs": [],
   "source": [
    "best_models[0].cpu()"
   ]
  },
  {
   "cell_type": "code",
   "execution_count": null,
   "id": "8f77f137",
   "metadata": {},
   "outputs": [],
   "source": [
    "def load_model(appliance, num_homes, model_type, trial):\n",
    "    model_test = LSTM(\n",
    "        config_['in_channels'],\n",
    "        config_['out_channels'],\n",
    "        config_['kernel_size'],\n",
    "        config_['hidden_size_1'],\n",
    "        config_['hidden_size_2'],\n",
    "        config_['fc1'],\n",
    "        config_['batch_size'],\n",
    "        config_['window_size'])\n",
    "    \n",
    "    model_type = 'global'\n",
    "    \n",
    "    root_path = r\"C:\\Users\\aar245\\Desktop\\privacy_preserving_nn\\models_squ_foot_filter\\\\\"\n",
    "    \n",
    "    model_test.load_state_dict(\n",
    "        torch.load(root_path+str(model_type)+\"_\"+str(appliance)+\"_model_squ_foot_filter_\"+str(num_homes)+\"_homes_trial\"+str(trial)+\".pth\")\n",
    "    )\n",
    "    model_test.eval()\n",
    "    \n",
    "    return model_test"
   ]
  },
  {
   "cell_type": "code",
   "execution_count": null,
   "id": "c5fa46b3",
   "metadata": {},
   "outputs": [],
   "source": [
    "def load_test_data_loader(appliance, test_home, test_month):    \n",
    "    test_path = r\"C:\\Users\\aar245\\Desktop\\privacy_preserving_nn\\input\\1min_real_\"+str(test_month)+\"2019.csv\"\n",
    "    test_dataset = PecanStreetDataset(test_path, str(appliance)+\"1\", config_['window_size'], [test_home])\n",
    "    y_min = test_dataset.y_min\n",
    "    y_max = test_dataset.y_max\n",
    "    test_dataset = test_dataset[round(0.5*len(test_dataset)):]\n",
    "    test_loader = DataLoader(dataset=test_dataset, batch_size=config_['batch_size'], shuffle = False, num_workers=0)\n",
    "\n",
    "    return test_loader, y_min, y_max"
   ]
  },
  {
   "cell_type": "code",
   "execution_count": null,
   "id": "a2e95135",
   "metadata": {},
   "outputs": [],
   "source": [
    "def create_true_and_pred_lists(appliance, num_homes, model_type, trial, test_loader, y_min, y_max):\n",
    "    model_test = load_model(appliance, num_homes, model_type, trial)\n",
    "    predictions = []\n",
    "    true_vals = []\n",
    "    model_type = 'global'\n",
    "    for i, (inputs, outputs) in enumerate(test_loader):\n",
    "        inputs, outputs = inputs.cpu(), outputs.cpu()\n",
    "        prediction = model_test(inputs)\n",
    "        predictions.append(prediction.detach().numpy())\n",
    "        true_vals.append(outputs.detach().numpy())\n",
    "    \n",
    "    true_vals = [i for subitems in true_vals for i in subitems]\n",
    "    true_vals = [i for subitems in true_vals for i in subitems]\n",
    "    true_vals = denormalize(true_vals, y_min, y_max)\n",
    "    \n",
    "    predictions = [i for subitems in predictions for i in subitems]\n",
    "    predictions = [i for subitems in predictions for i in subitems]\n",
    "    predictions = denormalize(predictions, y_min, y_max)\n",
    "    \n",
    "    return true_vals, predictions"
   ]
  },
  {
   "cell_type": "code",
   "execution_count": null,
   "id": "cc4a3d1b",
   "metadata": {},
   "outputs": [],
   "source": [
    "def denormalize(sequence, y_min, y_max):\n",
    "    sequence = np.add(np.multiply(sequence, y_max - y_min), y_min)\n",
    "    sequence = np.exp(sequence) - 1\n",
    "    return sequence"
   ]
  },
  {
   "cell_type": "code",
   "execution_count": null,
   "id": "7b11a169",
   "metadata": {},
   "outputs": [],
   "source": [
    "def plot_true_and_pred(true, predictions, view):\n",
    "    if view == 0:\n",
    "        plt.figure(figsize=(20,4))\n",
    "        plt.plot(true)\n",
    "        plt.plot(predictions, alpha = 0.7)\n",
    "        plt.plot([np.mean(true)]*len(true))\n",
    "        plt.legend(['true', 'pred', 'mean'])\n",
    "        \n",
    "    elif view > 0:\n",
    "        plt.figure(figsize=(20,4))\n",
    "        plt.plot(true[0:view])\n",
    "        plt.plot(predictions[0:view], alpha = 0.7)\n",
    "        plt.plot([np.mean(true)]*view)\n",
    "        plt.legend(['true', 'pred', 'mean'])"
   ]
  },
  {
   "cell_type": "code",
   "execution_count": null,
   "id": "bbd6f807",
   "metadata": {},
   "outputs": [],
   "source": [
    "def calculate_model_metrics(true, predictions, y_min, y_max, model_type, num_homes, test_home):\n",
    "    local_precision = precision(predictions, true)\n",
    "    local_recall = recall(predictions, true)\n",
    "\n",
    "    mse = np.mean(np.square(predictions - true))\n",
    "    r2 = metrics.r2_score(true, predictions)\n",
    "    f1 = f1_score(local_precision, local_recall)\n",
    "    nep = np.sum(abs(predictions - true))/np.sum(true)\n",
    "    nde = np.sum(np.square(predictions - true))/np.sum(np.square(true))\n",
    "    mae = np.sum(abs(predictions - true))/len(true)\n",
    "    \n",
    "    #results = {\"MSE\":mse, \"R2\":r2, \"F1\":f1, \"NEP\":nep, \"NDE\":nde, \"MAE\":mae}\n",
    "    results = {str(model_type)+\"_#TrainHomes:\"+str(num_homes)+\"_TestHomeID:\"+str(test_home):[mse, r2, f1, nep, nde, mae]}\n",
    "    return results"
   ]
  },
  {
   "cell_type": "code",
   "execution_count": null,
   "id": "220ec7bb",
   "metadata": {},
   "outputs": [],
   "source": [
    "#box-cox normalization\n",
    "for id in home_ids[0:1]:\n",
    "    test_loader, y_min, y_max = load_test_data_loader(\"refrigerator\", 142, \"dec\")\n",
    "    true, pred = create_true_and_pred_lists(best_models[0], test_loader, y_min, y_max)\n",
    "    plot_true_and_pred(true, pred, 5000)"
   ]
  },
  {
   "cell_type": "code",
   "execution_count": null,
   "id": "6a87db09",
   "metadata": {},
   "outputs": [],
   "source": [
    "#standard normalization\n",
    "for id in home_ids[0:1]:\n",
    "    test_loader, y_min, y_max = load_test_data_loader(\"refrigerator\", 5058, \"dec\")\n",
    "    true, pred = create_true_and_pred_lists(model_test, test_loader, y_min, y_max)\n",
    "    plot_true_and_pred(true, pred, 2000)"
   ]
  },
  {
   "cell_type": "code",
   "execution_count": null,
   "id": "30f11550",
   "metadata": {},
   "outputs": [],
   "source": [
    "[0.08261062204837799, 0.0006756758968593513, 0.47869045869881166, 0.7716401972127334, 0.6100338455022384, 40.55996281584161, 4326.6523]"
   ]
  },
  {
   "cell_type": "code",
   "execution_count": null,
   "id": "8263b48f",
   "metadata": {},
   "outputs": [],
   "source": [
    "calculate_model_metrics(true, pred, y_min, y_max)"
   ]
  },
  {
   "cell_type": "code",
   "execution_count": null,
   "id": "4247e40c",
   "metadata": {},
   "outputs": [],
   "source": [
    "calculate_model_metrics(true, pred, y_min, y_max)"
   ]
  },
  {
   "cell_type": "code",
   "execution_count": null,
   "id": "8ddc3e47",
   "metadata": {},
   "outputs": [],
   "source": []
  },
  {
   "cell_type": "code",
   "execution_count": null,
   "id": "1227d527",
   "metadata": {},
   "outputs": [],
   "source": [
    "\"attention_boxcox_global_refrigerator_model_test_home_5058_all_homes_trial0.pth\""
   ]
  },
  {
   "cell_type": "code",
   "execution_count": null,
   "id": "e1293e62",
   "metadata": {},
   "outputs": [],
   "source": []
  },
  {
   "cell_type": "code",
   "execution_count": null,
   "id": "f1595c25",
   "metadata": {},
   "outputs": [],
   "source": []
  },
  {
   "cell_type": "code",
   "execution_count": null,
   "id": "07f5136c",
   "metadata": {},
   "outputs": [],
   "source": []
  },
  {
   "cell_type": "code",
   "execution_count": null,
   "id": "96cebc6d",
   "metadata": {},
   "outputs": [],
   "source": [
    "test_inputs = []\n",
    "predictions = []\n",
    "true_vals = []"
   ]
  },
  {
   "cell_type": "code",
   "execution_count": null,
   "id": "d76119ed",
   "metadata": {},
   "outputs": [],
   "source": [
    "model.cpu()"
   ]
  },
  {
   "cell_type": "code",
   "execution_count": null,
   "id": "c2a09e4c",
   "metadata": {},
   "outputs": [],
   "source": [
    "test_path = r\"C:\\Users\\aar245\\Desktop\\privacy_preserving_nn\\input\\1min_real_dec2019.csv\""
   ]
  },
  {
   "cell_type": "code",
   "execution_count": null,
   "id": "c79fddb7",
   "metadata": {},
   "outputs": [],
   "source": [
    "test_dataset = PecanStreetDataset(test_path, 'refrigerator1', 499, [142])"
   ]
  },
  {
   "cell_type": "code",
   "execution_count": null,
   "id": "62b84e1b",
   "metadata": {},
   "outputs": [],
   "source": [
    "test_loader = DataLoader(dataset=test_dataset, batch_size=config_['batch_size'], shuffle = False, num_workers=0)"
   ]
  },
  {
   "cell_type": "code",
   "execution_count": null,
   "id": "fdeb532a",
   "metadata": {},
   "outputs": [],
   "source": [
    "for i, (inputs, outputs) in enumerate(test_loader):\n",
    "    inputs, outputs = inputs.cpu(), outputs.cpu()\n",
    "    prediction = best_models[0](inputs)\n",
    "    predictions.append(prediction.detach().numpy())\n",
    "    true_vals.append(outputs.detach().numpy())\n",
    "    test_inputs.append(inputs)"
   ]
  },
  {
   "cell_type": "code",
   "execution_count": null,
   "id": "0658ccdd",
   "metadata": {},
   "outputs": [],
   "source": [
    "predictions_flat = [i for sublist in predictions for i in sublist]"
   ]
  },
  {
   "cell_type": "code",
   "execution_count": null,
   "id": "3d895f84",
   "metadata": {},
   "outputs": [],
   "source": [
    "predictions_flat = [i for sublist in predictions_flat for i in sublist]"
   ]
  },
  {
   "cell_type": "code",
   "execution_count": null,
   "id": "176d3ed5",
   "metadata": {},
   "outputs": [],
   "source": [
    "true_flat = [i for sublist in true_vals for i in sublist]"
   ]
  },
  {
   "cell_type": "code",
   "execution_count": null,
   "id": "3e2b7699",
   "metadata": {},
   "outputs": [],
   "source": [
    "true_flat = [i for sublist in true_flat for i in sublist]"
   ]
  },
  {
   "cell_type": "code",
   "execution_count": null,
   "id": "33009041",
   "metadata": {},
   "outputs": [],
   "source": [
    "plt.plot(true_flat)\n",
    "plt.plot(predictions_flat)\n",
    "\n",
    "\n",
    "plt.legend(['prediction', 'true'])\n",
    "#plt.plot(test_inputs[0][3])"
   ]
  },
  {
   "cell_type": "code",
   "execution_count": null,
   "id": "1fc1b989",
   "metadata": {},
   "outputs": [],
   "source": [
    "predictions_list = [i for subitems in predictions for i in subitems]"
   ]
  },
  {
   "cell_type": "code",
   "execution_count": null,
   "id": "e37e21b8",
   "metadata": {},
   "outputs": [],
   "source": [
    "predictions_list = [i for subitems in predictions_list for i in subitems]"
   ]
  },
  {
   "cell_type": "code",
   "execution_count": null,
   "id": "047c6465",
   "metadata": {},
   "outputs": [],
   "source": [
    "true_vals_list = [i for subitems in true_vals for i in subitems]"
   ]
  },
  {
   "cell_type": "code",
   "execution_count": null,
   "id": "a8a867b2",
   "metadata": {},
   "outputs": [],
   "source": [
    "true_vals_list = [i for subitems in true_vals_list for i in subitems]"
   ]
  },
  {
   "cell_type": "code",
   "execution_count": null,
   "id": "54d88aed",
   "metadata": {},
   "outputs": [],
   "source": [
    "plt.figure(figsize=(20,4))\n",
    "plt.plot(true_vals_list)\n",
    "plt.plot(predictions_list)\n",
    "\n",
    "plt.legend(['true', 'pred'])"
   ]
  },
  {
   "cell_type": "code",
   "execution_count": null,
   "id": "623ec7e0",
   "metadata": {},
   "outputs": [],
   "source": []
  },
  {
   "cell_type": "code",
   "execution_count": null,
   "id": "a6f7f094",
   "metadata": {},
   "outputs": [],
   "source": []
  },
  {
   "cell_type": "code",
   "execution_count": null,
   "id": "2fc32087",
   "metadata": {},
   "outputs": [],
   "source": []
  },
  {
   "cell_type": "code",
   "execution_count": null,
   "id": "3abd8f79",
   "metadata": {},
   "outputs": [],
   "source": [
    "torch.save(model.state_dict(), PATH)"
   ]
  },
  {
   "cell_type": "code",
   "execution_count": null,
   "id": "95f20d4e",
   "metadata": {},
   "outputs": [],
   "source": [
    "model_test = LSTM(\n",
    "        config_['in_channels'],\n",
    "        config_['out_channels'],\n",
    "        config_['kernel_size'],\n",
    "        config_['hidden_size_1'],\n",
    "        config_['hidden_size_2'],\n",
    "        config_['fc1'],\n",
    "        config_['fc2'],\n",
    "        config_['kernel_size_2'])"
   ]
  },
  {
   "cell_type": "code",
   "execution_count": null,
   "id": "e222025b",
   "metadata": {},
   "outputs": [],
   "source": [
    "model_test.load_state_dict(torch.load(r\"C:\\Users\\aar245.CORNELL\\Desktop\\privacy_preserving_nn\\models\\refrigerator_model_total_houses_53_trial_0.pth\"))"
   ]
  },
  {
   "cell_type": "code",
   "execution_count": null,
   "id": "85547abf",
   "metadata": {},
   "outputs": [],
   "source": [
    "model_test.eval()"
   ]
  },
  {
   "cell_type": "code",
   "execution_count": null,
   "id": "62af3bdd",
   "metadata": {},
   "outputs": [],
   "source": []
  },
  {
   "cell_type": "code",
   "execution_count": null,
   "id": "03cce84f",
   "metadata": {},
   "outputs": [],
   "source": [
    "train_homes = [\n",
    "    [6069, 11878],\n",
    "    [7069, 9053, 11878],\n",
    "    [142, 9053, 6178, 11421],\n",
    "    [3996, 9053, 10983, 11421, 7935],\n",
    "    [5192, 3383, 10811, 7365, 142, 526],\n",
    "    [11878, 335, 6564, 183, 6240, 9053, 7365],\n",
    "    [8825, 7935, 9002, 2358, 7069, 1417, 335, 526],\n",
    "    [5058, 6178, 8825, 6564, 8627, 10182, 7365, 6526, 3976],\n",
    "    [11878, 8627, 5192, 6672, 183, 6240, 3488, 6703, 8825, 9290],\n",
    "    [11785, 11878, 1417, 5058, 6240, 6526, 2126, 335, 6069, 8825, 6594, 9004, 9053, 3976, 7935],\n",
    "    [3383, 183, 6526, 8825, 8627, 2126, 335, 6564, 9053, 7365, 11785, 3996, 6703, 11421, 3488, 6240, 2358, 6178, 10182, 10983],\n",
    "    [142, 526, 1417, 10983, 335, 3996, 8627, 3383, 6564, 2358, 11785, 6703, 183, 3488, 7365, 3976, 8825, 10182, 6594, 5192, 6178, 9004, 387, 9053, 6240],\n",
    "    [6240, 8825, 6069, 6564, 11785, 6178, 10983, 11878, 3488, 142, 7935, 5058, 6526, 9004, 9002, 3996, 9290, 10811, 526, 183, 7365, 5192, 3976, 9053, 1240, 3383, 11421, 6672, 2126, 7069],\n",
    "    [387, 183, 7069, 6178, 9004, 6564, 6594, 1240, 3976, 9053, 3488, 7365, 10811, 10182, 2358, 3383, 3996, 11878, 142, 6526, 526, 6703, 2126, 8825, 6672, 6240, 9290, 9002, 335, 1417, 11785, 8627, 5058, 10983, 5192],\n",
    "    [9002, 3488, 1240, 6672, 5058, 11878, 6240, 2126, 7935, 387, 183, 6178, 1417, 11785, 6526, 11421, 2358, 7365, 335, 3976, 526, 10811, 3383, 10983, 3996, 9290, 9053, 6703, 9004, 8627, 6069, 5192, 10182, 142, 6594, 7069, 6564, 8825]\n",
    "]"
   ]
  },
  {
   "cell_type": "code",
   "execution_count": null,
   "id": "59e65474",
   "metadata": {},
   "outputs": [],
   "source": [
    "all_results = {}\n",
    "for i in range(len(random_select)):\n",
    "    for j in train_homes[i]:\n",
    "        test_loader, y_min, y_max = load_test_data_loader(\"refrigerator\", j, \"dec\")\n",
    "\n",
    "        true, pred = create_true_and_pred_lists(\n",
    "        appliance='refrigerator',\n",
    "        num_homes=random_select[i],\n",
    "        model_type='global',\n",
    "        trial=1,\n",
    "        test_loader=test_loader,\n",
    "        y_min=y_min,\n",
    "        y_max=y_max\n",
    "    )\n",
    "\n",
    "        all_results.update(calculate_model_metrics(true, pred, y_min, y_max, 'global', random_select[i], j))\n",
    "    print(all_results)"
   ]
  },
  {
   "cell_type": "code",
   "execution_count": null,
   "id": "ac81484e",
   "metadata": {},
   "outputs": [],
   "source": [
    "global_results = pd.DataFrame.from_dict(all_results, orient='index', columns=['mse', 'r2', 'f1', 'nep', 'nde', 'mae'])"
   ]
  },
  {
   "cell_type": "code",
   "execution_count": null,
   "id": "6f9498d4",
   "metadata": {},
   "outputs": [],
   "source": [
    "global_results.to_csv(r\"C:\\Users\\aar245.CORNELL\\Desktop\\privacy_preserving_nn\\global_squ_foot_filter.csv\")"
   ]
  },
  {
   "cell_type": "code",
   "execution_count": null,
   "id": "fd2cb824",
   "metadata": {},
   "outputs": [],
   "source": [
    "avg_df = pd.DataFrame(columns = ['mse', 'r2', 'f1', 'nep', 'nde', 'mae'])\n",
    "count = 0\n",
    "for i in range(len(random_select)):\n",
    "    df = pd.DataFrame(global_results[count:count+random_select[i]].mean()).T\n",
    "    df.index = ['global'+\"_\"+str(random_select[i])+\"_Homes\"]\n",
    "    count += int(random_select[i])\n",
    "    avg_df = avg_df.append(df)"
   ]
  },
  {
   "cell_type": "code",
   "execution_count": null,
   "id": "c64750d6",
   "metadata": {},
   "outputs": [],
   "source": [
    "avg_df"
   ]
  },
  {
   "cell_type": "code",
   "execution_count": null,
   "id": "3a4885cd",
   "metadata": {},
   "outputs": [],
   "source": [
    "def make_box_plots(data, metric):\n",
    "    home_iter = [2,3,4,5,6,7,8,9,10,15,20,25,30,35,38]\n",
    "    count = 0\n",
    "    all_bldgs = []\n",
    "    for j in range(len(home_iter)):\n",
    "        bldgs = data[count:count+home_iter[j]][str(metric)].values\n",
    "        all_bldgs.append(bldgs)\n",
    "        count += home_iter[j]\n",
    "    return plt.boxplot(all_bldgs, showmeans=True)"
   ]
  },
  {
   "cell_type": "code",
   "execution_count": null,
   "id": "5df34ec9",
   "metadata": {},
   "outputs": [],
   "source": [
    "make_box_plots(global_results, 'mse')"
   ]
  },
  {
   "cell_type": "code",
   "execution_count": null,
   "id": "291c7e00",
   "metadata": {},
   "outputs": [],
   "source": [
    "old_global_results = pd.read_csv(r\"C:\\Users\\aar245.CORNELL\\Desktop\\privacy_preserving_nn\\global_vs_fl_corrected.csv\", index_col=0)"
   ]
  },
  {
   "cell_type": "code",
   "execution_count": null,
   "id": "93fb1d0b",
   "metadata": {},
   "outputs": [],
   "source": [
    "old_global_results = old_global_results[0:int(len(old_global_results)/2)-33]"
   ]
  },
  {
   "cell_type": "code",
   "execution_count": null,
   "id": "a24a5734",
   "metadata": {},
   "outputs": [],
   "source": [
    "global_results.iloc[9:14]"
   ]
  },
  {
   "cell_type": "code",
   "execution_count": null,
   "id": "7f3d626d",
   "metadata": {},
   "outputs": [],
   "source": [
    "new_df = pd.DataFrame()\n",
    "\n",
    "global_results.iloc[44:-73]"
   ]
  },
  {
   "cell_type": "code",
   "execution_count": null,
   "id": "111dc968",
   "metadata": {},
   "outputs": [],
   "source": [
    "new_df = new_df.append(global_results.iloc[44:-73])"
   ]
  },
  {
   "cell_type": "code",
   "execution_count": null,
   "id": "2ce5ac8d",
   "metadata": {},
   "outputs": [],
   "source": [
    "new_df"
   ]
  },
  {
   "cell_type": "code",
   "execution_count": null,
   "id": "4e27ac7b",
   "metadata": {},
   "outputs": [],
   "source": []
  },
  {
   "cell_type": "code",
   "execution_count": null,
   "id": "b82a91b1",
   "metadata": {},
   "outputs": [],
   "source": []
  },
  {
   "cell_type": "code",
   "execution_count": null,
   "id": "25011a5d",
   "metadata": {},
   "outputs": [],
   "source": []
  },
  {
   "cell_type": "code",
   "execution_count": null,
   "id": "e1138809",
   "metadata": {},
   "outputs": [],
   "source": [
    "def make_adjacent_box_plots(global_results, fl_results, metric):\n",
    "    \n",
    "    iters = []\n",
    "    for result in global_results.index:\n",
    "        iters.append(int(result.split(':')[1].split('_')[0]))\n",
    "        \n",
    "    home_iter = np.unique(iters)\n",
    "    \n",
    "    count = 0\n",
    "    all_global_results = []\n",
    "    all_fl_results = []\n",
    "    \n",
    "    for j in range(len(home_iter)):\n",
    "        bldgs = global_results[count:count+home_iter[j]][str(metric)].values\n",
    "        all_global_results.append(bldgs)\n",
    "        count += home_iter[j]\n",
    "        \n",
    "    count = 0\n",
    "    for j in range(len(home_iter)):\n",
    "        bldgs = fl_results[count:count+home_iter[j]][str(metric)].values\n",
    "        all_fl_results.append(bldgs)\n",
    "        count += home_iter[j]\n",
    "        \n",
    "    all_data = [list(a) for a in zip(all_global_results, all_fl_results)]\n",
    "    all_data = [item for sublist in all_data for item in sublist]\n",
    "    \n",
    "    positions = [1]\n",
    "    labels = ['global']\n",
    "    for i in range(len(all_data)-1):\n",
    "        if i%2==0:\n",
    "            positions.append(positions[i]+0.5)\n",
    "        else:\n",
    "            positions.append(positions[i]+1)\n",
    "\n",
    "    labels = []\n",
    "    for home in home_iter:\n",
    "        labels.append(home)\n",
    "        labels.append('')\n",
    "    \n",
    "    fig, ax = plt.subplots(figsize=(20, 4))\n",
    "    bplot = ax.boxplot(\n",
    "        all_data,\n",
    "        notch=False,\n",
    "        patch_artist=True,\n",
    "        positions=positions,\n",
    "        labels=labels,\n",
    "        showmeans=True\n",
    "    )\n",
    "    \n",
    "    #ax.set_xticklabels(labels, ha='center')\n",
    "    plt.setp(ax.xaxis.get_majorticklabels())\n",
    "    dx = 27/72.; dy = 0/72. \n",
    "    offset = matplotlib.transforms.ScaledTranslation(dx, dy, fig.dpi_scale_trans)\n",
    "    \n",
    "    for label in ax.xaxis.get_majorticklabels():\n",
    "        label.set_transform(label.get_transform() + offset)\n",
    "    \n",
    "    ax.xaxis.set_ticks_position('none')\n",
    "    \n",
    "    ax.set_title(\"Global and FL Metrics for increasing quantity of homes\")\n",
    "    \n",
    "    colors = []\n",
    "    for i in range(int(len(labels)/2)):\n",
    "        colors.append('blue')\n",
    "        colors.append('red')\n",
    "        \n",
    "    for patch, color in zip(bplot['boxes'], colors):\n",
    "        patch.set_facecolor(color)\n",
    "\n",
    "    ax.set_xlabel('Number of homes')\n",
    "    ax.set_ylabel(str(metric))\n",
    "    \n",
    "    custom_lines = [Line2D([0], [0], color='blue', lw=4),\n",
    "                Line2D([0], [0], color='red', lw=4)]\n",
    "    \n",
    "    ax.legend(custom_lines, ['squ_foot', 'k_means'])\n",
    "\n",
    "    plt.show()\n"
   ]
  },
  {
   "cell_type": "code",
   "execution_count": null,
   "id": "e3e5d368",
   "metadata": {},
   "outputs": [],
   "source": [
    "make_adjacent_box_plots(new_df, old_global_results, 'f1')"
   ]
  },
  {
   "cell_type": "code",
   "execution_count": null,
   "id": "1ee2f9ce",
   "metadata": {},
   "outputs": [],
   "source": []
  }
 ],
 "metadata": {
  "kernelspec": {
   "display_name": "privacy_ml_env",
   "language": "python",
   "name": "privacy_ml_env"
  },
  "language_info": {
   "codemirror_mode": {
    "name": "ipython",
    "version": 3
   },
   "file_extension": ".py",
   "mimetype": "text/x-python",
   "name": "python",
   "nbconvert_exporter": "python",
   "pygments_lexer": "ipython3",
   "version": "3.9.7"
  }
 },
 "nbformat": 4,
 "nbformat_minor": 5
}
