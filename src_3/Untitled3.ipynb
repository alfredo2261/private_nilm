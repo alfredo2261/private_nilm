{
 "cells": [
  {
   "cell_type": "code",
   "execution_count": null,
   "id": "2f29dea1",
   "metadata": {},
   "outputs": [],
   "source": [
    "#per home training results: seq2point, 20 homes from power ratio filter, non-FL\n",
    "#['loss', 'r2', 'f1', 'nep', 'nde', 'mae', 'mse']\n",
    "results_train = {\n",
    "    '10811':[.007506, .9925, .9752, .04963, .003468, 4.331, 49.085],\n",
    "    '145':[.03236, .968, .9156, .169, .02153, 11.089, 284.172],\n",
    "    '183':[.0359, .9641, .9314, .1372, .01872, 9.78, 198.752],\n",
    "    '335':[.07705, .9229, .9005, .1989, .03846, 13.821, 370.403],\n",
    "    '387':[.01531, .9847, .9447, .1107, .00994, 4.887, 55.213],\n",
    "    '526':[.1035, .8965, .9085, .183, .0396, 16.831, 542.63],\n",
    "    '1417':[.07749, .9226, .8521, .2958, .05627, 13.423, 424.072],\n",
    "    '2358':[.01927, .9807, .9328, .1344, .01377, 5.649, 85.392],\n",
    "    '3383':[.01335, .9867, .936, .128, .01002, 4.238, 44.079],\n",
    "    '4628':[],\n",
    "    \n",
    "}"
   ]
  },
  {
   "cell_type": "code",
   "execution_count": null,
   "id": "114dd89d",
   "metadata": {},
   "outputs": [],
   "source": [
    "#per home training results: seq2point, 20 homes from power ratio filter, non-FL\n",
    "#['loss', 'r2', 'f1', 'nep', 'nde', 'mae', 'mse']\n",
    "results_test = {\n",
    "    '10811':[.4707, ],\n",
    "    '145':[],\n",
    "    '183':[],\n",
    "    '335':[],\n",
    "    '387':[],\n",
    "    '526':[],\n",
    "    '1417':[],\n",
    "    '2358':[],\n",
    "    '3383':[],\n",
    "    '4628':[]\n",
    "}"
   ]
  }
 ],
 "metadata": {
  "kernelspec": {
   "display_name": "privacy_ml_env",
   "language": "python",
   "name": "privacy_ml_env"
  },
  "language_info": {
   "codemirror_mode": {
    "name": "ipython",
    "version": 3
   },
   "file_extension": ".py",
   "mimetype": "text/x-python",
   "name": "python",
   "nbconvert_exporter": "python",
   "pygments_lexer": "ipython3",
   "version": "3.9.7"
  }
 },
 "nbformat": 4,
 "nbformat_minor": 5
}
