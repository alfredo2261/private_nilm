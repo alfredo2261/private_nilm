{
 "cells": [
  {
   "cell_type": "code",
   "execution_count": null,
   "id": "8b83b58a",
   "metadata": {},
   "outputs": [],
   "source": [
    "from clean_data_seq2point import load_all_houses_with_device, create_activations\n",
    "from datetime import timedelta\n",
    "import numpy as np\n",
    "import matplotlib.pyplot as plt\n",
    "import pandas as pd"
   ]
  },
  {
   "cell_type": "code",
   "execution_count": null,
   "id": "811e4310",
   "metadata": {},
   "outputs": [],
   "source": [
    "path = \"/Users/alfredorodriguez/Desktop/input/1min_real_sept_oct_nov2019.csv\""
   ]
  },
  {
   "cell_type": "code",
   "execution_count": null,
   "id": "931cf9fd",
   "metadata": {},
   "outputs": [],
   "source": [
    "activations = create_activations(path, 'refrigerator1', 499, [142, 145])"
   ]
  },
  {
   "cell_type": "code",
   "execution_count": null,
   "id": "4ce874d2",
   "metadata": {},
   "outputs": [],
   "source": [
    "len(activations[1])"
   ]
  },
  {
   "cell_type": "code",
   "execution_count": null,
   "id": "f4917cae",
   "metadata": {},
   "outputs": [],
   "source": [
    "list(activations[0][0])"
   ]
  },
  {
   "cell_type": "code",
   "execution_count": null,
   "id": "63aa8f6d",
   "metadata": {},
   "outputs": [],
   "source": []
  },
  {
   "cell_type": "code",
   "execution_count": null,
   "id": "13e032f1",
   "metadata": {},
   "outputs": [],
   "source": [
    "test_data = load_all_houses_with_device(path, 'refrigerator1')"
   ]
  },
  {
   "cell_type": "code",
   "execution_count": null,
   "id": "8e0f4f22",
   "metadata": {},
   "outputs": [],
   "source": [
    "test_data"
   ]
  },
  {
   "cell_type": "code",
   "execution_count": null,
   "id": "f3231421",
   "metadata": {},
   "outputs": [],
   "source": [
    "unique_days = test_data.index.map(lambda t: t.date()).unique()"
   ]
  },
  {
   "cell_type": "code",
   "execution_count": null,
   "id": "ec4718d5",
   "metadata": {},
   "outputs": [],
   "source": [
    "(unique_days[0] + timedelta(days = 1)).strftime(\"%Y-%m-%d\")"
   ]
  },
  {
   "cell_type": "code",
   "execution_count": null,
   "id": "10262d62",
   "metadata": {},
   "outputs": [],
   "source": [
    "mask = (test_data.index > start_date) & (test_data.index <= end_date)"
   ]
  },
  {
   "cell_type": "code",
   "execution_count": null,
   "id": "85c48d27",
   "metadata": {},
   "outputs": [],
   "source": [
    "subset = test_data.loc[(test_data.index >= '2019-11-03') & (test_data.index < '2019-11-04')]\n"
   ]
  },
  {
   "cell_type": "code",
   "execution_count": null,
   "id": "21178759",
   "metadata": {},
   "outputs": [],
   "source": [
    "fridge_ids = subset.dataid.unique()"
   ]
  },
  {
   "cell_type": "code",
   "execution_count": null,
   "id": "4315ff71",
   "metadata": {},
   "outputs": [],
   "source": [
    "for fridge in fridge_ids:\n",
    "    print(fridge, len(subset.loc[subset.dataid==fridge]))"
   ]
  },
  {
   "cell_type": "code",
   "execution_count": null,
   "id": "6e2d692a",
   "metadata": {},
   "outputs": [],
   "source": [
    "subset.resample('1T').asfreq()"
   ]
  },
  {
   "cell_type": "code",
   "execution_count": null,
   "id": "2a90c36a",
   "metadata": {},
   "outputs": [],
   "source": [
    "subset"
   ]
  },
  {
   "cell_type": "code",
   "execution_count": null,
   "id": "e43e5969",
   "metadata": {},
   "outputs": [],
   "source": [
    "plt.plot(subset.index.values[80:400], subset.appliance_power.values[80:400])"
   ]
  },
  {
   "cell_type": "code",
   "execution_count": null,
   "id": "34c40592",
   "metadata": {},
   "outputs": [],
   "source": [
    "plt.plot(subset.index.values[20:480], subset.net_power.values[20:480])"
   ]
  },
  {
   "cell_type": "code",
   "execution_count": null,
   "id": "7573083b",
   "metadata": {},
   "outputs": [],
   "source": [
    "plt.plot(subset.loc[~subset.index.duplicated(), :][20:400].net_power.values)"
   ]
  },
  {
   "cell_type": "code",
   "execution_count": null,
   "id": "1bd4253c",
   "metadata": {},
   "outputs": [],
   "source": [
    "testing = pd.read_csv(path, usecols = ['dataid', 'localminute', 'refrigerator1', 'grid'])"
   ]
  },
  {
   "cell_type": "code",
   "execution_count": null,
   "id": "bfbc39ee",
   "metadata": {},
   "outputs": [],
   "source": [
    "home_ids = testing.dataid.unique()"
   ]
  },
  {
   "cell_type": "code",
   "execution_count": null,
   "id": "9d892645",
   "metadata": {},
   "outputs": [],
   "source": [
    "for item in home_ids:\n",
    "    print(item, len(testing.loc[testing.dataid==item]))"
   ]
  },
  {
   "cell_type": "code",
   "execution_count": null,
   "id": "c0d16de9",
   "metadata": {},
   "outputs": [],
   "source": []
  }
 ],
 "metadata": {
  "kernelspec": {
   "display_name": "Python 3",
   "language": "python",
   "name": "python3"
  },
  "language_info": {
   "codemirror_mode": {
    "name": "ipython",
    "version": 3
   },
   "file_extension": ".py",
   "mimetype": "text/x-python",
   "name": "python",
   "nbconvert_exporter": "python",
   "pygments_lexer": "ipython3",
   "version": "3.8.8"
  }
 },
 "nbformat": 4,
 "nbformat_minor": 5
}
