{
 "cells": [
  {
   "cell_type": "code",
   "execution_count": 1,
   "id": "8b83b58a",
   "metadata": {},
   "outputs": [],
   "source": [
    "from clean_data_seq2point import load_all_houses_with_device, create_activations\n",
    "from datetime import timedelta\n",
    "import numpy as np\n",
    "import matplotlib.pyplot as plt\n",
    "import pandas as pd\n",
    "import random\n",
    "import data_loaders"
   ]
  },
  {
   "cell_type": "code",
   "execution_count": 3,
   "id": "811e4310",
   "metadata": {},
   "outputs": [],
   "source": [
    "path = \"/Users/alfredorodriguez/Desktop/input/1min_real_sept_oct_nov2019.csv\""
   ]
  },
  {
   "cell_type": "code",
   "execution_count": null,
   "id": "6566a536",
   "metadata": {},
   "outputs": [],
   "source": [
    "activations = create_activations(path, 'refrigerator1', 499, [142, 145])"
   ]
  },
  {
   "cell_type": "code",
   "execution_count": null,
   "id": "18419fb6",
   "metadata": {},
   "outputs": [],
   "source": []
  },
  {
   "cell_type": "code",
   "execution_count": null,
   "id": "13e032f1",
   "metadata": {},
   "outputs": [],
   "source": [
    "test_data = load_all_houses_with_device(path, 'refrigerator1')"
   ]
  },
  {
   "cell_type": "code",
   "execution_count": null,
   "id": "f06e2b3c",
   "metadata": {},
   "outputs": [],
   "source": []
  },
  {
   "cell_type": "code",
   "execution_count": 5,
   "id": "40a26b03",
   "metadata": {},
   "outputs": [
    {
     "name": "stderr",
     "output_type": "stream",
     "text": [
      "/Users/alfredorodriguez/Desktop/fl_and_nilm/src_3/clean_data_seq2point.py:319: SettingWithCopyWarning: \n",
      "A value is trying to be set on a copy of a slice from a DataFrame.\n",
      "Try using .loc[row_indexer,col_indexer] = value instead\n",
      "\n",
      "See the caveats in the documentation: https://pandas.pydata.org/pandas-docs/stable/user_guide/indexing.html#returning-a-view-versus-a-copy\n",
      "  i['net_power'] = split_data(normalize_x(i['net_power'].values), window_length)\n"
     ]
    }
   ],
   "source": [
    "train_datset = data_loaders.PecanStreetDataset(path, 'refrigerator1', 499, [142, 145])"
   ]
  },
  {
   "cell_type": "code",
   "execution_count": null,
   "id": "14b1ec9d",
   "metadata": {},
   "outputs": [],
   "source": []
  },
  {
   "cell_type": "code",
   "execution_count": null,
   "id": "a60de94a",
   "metadata": {},
   "outputs": [],
   "source": []
  }
 ],
 "metadata": {
  "kernelspec": {
   "display_name": "Python 3",
   "language": "python",
   "name": "python3"
  },
  "language_info": {
   "codemirror_mode": {
    "name": "ipython",
    "version": 3
   },
   "file_extension": ".py",
   "mimetype": "text/x-python",
   "name": "python",
   "nbconvert_exporter": "python",
   "pygments_lexer": "ipython3",
   "version": "3.8.8"
  }
 },
 "nbformat": 4,
 "nbformat_minor": 5
}
